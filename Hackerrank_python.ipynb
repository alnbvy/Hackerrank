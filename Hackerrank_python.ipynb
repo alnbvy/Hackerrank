{
 "cells": [
  {
   "cell_type": "markdown",
   "id": "165188c7",
   "metadata": {},
   "source": [
    "# Introduction"
   ]
  },
  {
   "cell_type": "code",
   "execution_count": 8,
   "id": "5e2ca926",
   "metadata": {},
   "outputs": [
    {
     "name": "stdout",
     "output_type": "stream",
     "text": [
      "2100\n",
      "False\n"
     ]
    }
   ],
   "source": [
    "def is_leap(year):\n",
    "    leap = False\n",
    "    if (year%4 == 0):\n",
    "        leap = True\n",
    "        if (year%400 == 0):\n",
    "            leap = True\n",
    "        elif (year%100 == 0):\n",
    "            leap = False\n",
    "            \n",
    "    \n",
    "    return leap\n",
    "\n",
    "year = int(input())\n",
    "print(is_leap(year))"
   ]
  },
  {
   "cell_type": "code",
   "execution_count": 29,
   "id": "3f45b1a3",
   "metadata": {},
   "outputs": [
    {
     "name": "stdout",
     "output_type": "stream",
     "text": [
      "10\n",
      "12345678910\n",
      "12345678910\n",
      "12345678910\n"
     ]
    }
   ],
   "source": [
    "if __name__ == '__main__':\n",
    "    n = int(input())\n",
    "    st = ''\n",
    "    for i in range(1,n+1):\n",
    "        st += str(i)\n",
    "    print(st)\n",
    "    \n",
    "    print(*list(map(str,range(1,n+1))),sep='')\n",
    "    print(''.join([str(i) for i in range(1,n+1)]))\n",
    "    # Learn the second method\n",
    "    # Star in fron of the list print all of the members in one line. Also remember sep option.\n",
    "    # Also learn the \"\".join(lst)"
   ]
  },
  {
   "cell_type": "markdown",
   "id": "d1643076",
   "metadata": {},
   "source": [
    "* I skipped rest of the questions in this part beccause did not contain useful tips."
   ]
  },
  {
   "cell_type": "markdown",
   "id": "1db97e09",
   "metadata": {},
   "source": [
    "# Basic Data Types"
   ]
  },
  {
   "cell_type": "code",
   "execution_count": 31,
   "id": "a6d3e2b7",
   "metadata": {},
   "outputs": [
    {
     "name": "stdout",
     "output_type": "stream",
     "text": [
      "1\n",
      "1\n",
      "1\n",
      "2\n",
      "[[0, 0, 0], [0, 0, 1], [0, 1, 0], [1, 0, 0], [1, 1, 1]]\n"
     ]
    }
   ],
   "source": [
    "if __name__ == '__main__':\n",
    "    x = int(input())\n",
    "    y = int(input())\n",
    "    z = int(input())\n",
    "    n = int(input())\n",
    "    \n",
    "    lst = []\n",
    "    for i in range(x+1):\n",
    "        for j in range(y+1):\n",
    "            for k in range(z+1):\n",
    "                if (i + j + k != n):\n",
    "                    lst.append([i,j,k])\n",
    "    print(lst)\n",
    "    \n",
    "    # second method\n",
    "    # print([ [i, j, k] for i in range(x+1) for j in range(y+1) for k in range(z+1) if i+j+k !=n ])\n",
    "    # learn multiple for loops with if in on line."
   ]
  },
  {
   "cell_type": "code",
   "execution_count": 37,
   "id": "3fefcbe6",
   "metadata": {},
   "outputs": [
    {
     "name": "stdout",
     "output_type": "stream",
     "text": [
      "5\n",
      "2 3 6 6 5\n",
      "5\n"
     ]
    }
   ],
   "source": [
    "if __name__ == '__main__':\n",
    "    n = int(input())\n",
    "    arr = map(int, input().split())\n",
    "    print(sorted(list(set(arr)),reverse=True)[1])\n",
    "    \n",
    "# sorted(iterable, key=key, reverse=reverse)\n",
    "# list.sort(reverse=True|False, key=myFunc)"
   ]
  },
  {
   "cell_type": "code",
   "execution_count": null,
   "id": "ccfc6338",
   "metadata": {},
   "outputs": [],
   "source": [
    "if __name__ == '__main__':\n",
    "    scores = []\n",
    "    names = []\n",
    "    for _ in range(int(input())):\n",
    "        name = input()\n",
    "        score = float(input())\n",
    "        scores.append(score)\n",
    "        names.append(name)\n",
    "        \n",
    "target = sorted(list(set(scores)))[1]\n",
    "inx = [i for i in range(len(scores)) if target == scores[i]]\n",
    "lst = []\n",
    "for i in inx:\n",
    "    lst.append(names[i])\n",
    "print(*sorted(lst),sep='\\n')\n",
    "\n",
    "# Note that how you find the index of maximum elements in a list\n",
    "# Tip: how to print list elements in new lines"
   ]
  },
  {
   "cell_type": "code",
   "execution_count": null,
   "id": "beadc910",
   "metadata": {},
   "outputs": [],
   "source": [
    "if __name__ == '__main__':\n",
    "    n = int(input())\n",
    "    student_marks = {}\n",
    "    for _ in range(n):\n",
    "        name, *line = input().split()\n",
    "        scores = list(map(float, line))\n",
    "        student_marks[name] = scores\n",
    "    query_name = input()\n",
    "    \n",
    "    print('{:0.2f}'.format(sum(student_marks[query_name]) / len(student_marks[query_name])))\n",
    "    \n",
    "# Learn formated print for two decimals for fuck sake!"
   ]
  },
  {
   "cell_type": "code",
   "execution_count": null,
   "id": "0cfbb862",
   "metadata": {},
   "outputs": [],
   "source": [
    "# Lists\n",
    "if __name__ == '__main__':\n",
    "    N = int(input())\n",
    "    lst = []\n",
    "    for i in range(N):\n",
    "        command = input().strip().split(\" \")\n",
    "        if (command[0] == 'insert'):\n",
    "            lst.insert(int(command[1]),int(command[2]))\n",
    "        elif (command[0] == 'print'):\n",
    "            print(lst)\n",
    "        elif (command[0] == 'remove'):\n",
    "            try:\n",
    "                lst.remove(int(command[1]))\n",
    "            except ValueError:\n",
    "                pass  # do nothing!\n",
    "        elif (command[0] == 'append'):\n",
    "            lst.append(int(command[1]))\n",
    "        elif (command[0] == 'sort'):\n",
    "            lst.sort()\n",
    "        elif (command[0] == 'pop'):\n",
    "            lst.pop(-1)\n",
    "        elif (command[0] == 'reverse'):\n",
    "            lst.reverse()\n",
    "            \n",
    "# Tips: insert(a,b) inserts a at b-th index\n",
    "# If remove(a) will return ValueError if a not in a\n",
    "# Learn try and except\n",
    "# Function sort() won't return anything. Just using lst.sort() is enough\n",
    "# The same goes for lst.pop()"
   ]
  },
  {
   "cell_type": "code",
   "execution_count": 1,
   "id": "cf361a83",
   "metadata": {},
   "outputs": [],
   "source": [
    "# Tuples\n",
    "if __name__ == '__main__':\n",
    "    n = int(input())\n",
    "    integer_list = map(int, input().split())\n",
    "    print(hash(tuple(integer_list)))\n",
    "    \n",
    "# Tip: tuple(list) "
   ]
  },
  {
   "cell_type": "code",
   "execution_count": null,
   "id": "2676200c",
   "metadata": {},
   "outputs": [],
   "source": []
  },
  {
   "cell_type": "code",
   "execution_count": null,
   "id": "02606045",
   "metadata": {},
   "outputs": [],
   "source": []
  },
  {
   "cell_type": "code",
   "execution_count": null,
   "id": "b1591113",
   "metadata": {},
   "outputs": [],
   "source": []
  },
  {
   "cell_type": "code",
   "execution_count": 24,
   "id": "e5d16e8e",
   "metadata": {},
   "outputs": [
    {
     "name": "stdout",
     "output_type": "stream",
     "text": [
      "2\n",
      "1 2\n",
      "-3550055125485641917\n"
     ]
    }
   ],
   "source": [
    "if __name__ == '__main__':\n",
    "    n = int(input())\n",
    "    integer_list = map(int, input().split())\n",
    "    \n",
    "print(hash(tuple(integer_list)))\n"
   ]
  },
  {
   "cell_type": "code",
   "execution_count": 28,
   "id": "8a4e30b7",
   "metadata": {},
   "outputs": [
    {
     "name": "stdout",
     "output_type": "stream",
     "text": [
      "2\n",
      "1 2\n",
      "-3550055125485641917\n"
     ]
    }
   ],
   "source": [
    "# second method\n",
    "if __name__ == '__main__':\n",
    "    n = int(input())\n",
    "    lst = input().split()\n",
    "    integer_list = [int(x) for x in lst]\n",
    "    \n",
    "print(hash(tuple(integer_list)))"
   ]
  },
  {
   "cell_type": "code",
   "execution_count": 30,
   "id": "6b13506a",
   "metadata": {},
   "outputs": [
    {
     "name": "stdout",
     "output_type": "stream",
     "text": [
      "Hello\n",
      "hELLO\n"
     ]
    }
   ],
   "source": [
    "def swap_case(s):\n",
    "    return s.swapcase()\n",
    "\n",
    "if __name__ == '__main__':\n",
    "    s = input()\n",
    "    result = swap_case(s)\n",
    "    print(result)"
   ]
  },
  {
   "cell_type": "code",
   "execution_count": 35,
   "id": "863a1b66",
   "metadata": {},
   "outputs": [
    {
     "name": "stdout",
     "output_type": "stream",
     "text": [
      "this is a string\n",
      "this-is-a-string\n"
     ]
    }
   ],
   "source": [
    "def split_and_join(line):\n",
    "    return \"-\".join(line.split(\" \"))\n",
    "\n",
    "if __name__ == '__main__':\n",
    "    line = input()\n",
    "    result = split_and_join(line)\n",
    "    print(result)"
   ]
  },
  {
   "cell_type": "code",
   "execution_count": 47,
   "id": "dc0b4b89",
   "metadata": {},
   "outputs": [
    {
     "name": "stdout",
     "output_type": "stream",
     "text": [
      "ali\n",
      "reza\n",
      "Hello ali reza! You just delved into python.\n",
      "Hello ali reza! You just delved into python.\n",
      "Hello ali reza! You just delved into python.\n"
     ]
    }
   ],
   "source": [
    "def print_full_name(first, last):\n",
    "    print('Hello '+ first + ' ' +  last + '! You just delved into python.')\n",
    "    print(\"Hello %s %s! You just delved into python.\" % (first, last))\n",
    "    print(\"Hello {} {}! You just delved into python.\".format(first,last))\n",
    "    return \n",
    "    \n",
    "\n",
    "if __name__ == '__main__':\n",
    "    first_name = input()\n",
    "    last_name = input()\n",
    "    print_full_name(first_name, last_name)"
   ]
  },
  {
   "cell_type": "code",
   "execution_count": 4,
   "id": "1c58c7dc",
   "metadata": {},
   "outputs": [
    {
     "name": "stdout",
     "output_type": "stream",
     "text": [
      "abracadabra\n",
      "5 k\n",
      "abrackdabra\n"
     ]
    }
   ],
   "source": [
    "def mutate_string(string, position, character):\n",
    "    a = list(string)\n",
    "    a[position] = c\n",
    "    return ''.join(a)\n",
    "\n",
    "if __name__ == '__main__':\n",
    "    s = input()\n",
    "    i, c = input().split()\n",
    "    s_new = mutate_string(s, int(i), c)\n",
    "    print(s_new)"
   ]
  },
  {
   "cell_type": "code",
   "execution_count": 14,
   "id": "eaa624d2",
   "metadata": {},
   "outputs": [
    {
     "name": "stdout",
     "output_type": "stream",
     "text": [
      "ABCDCDC\n",
      "CDC\n",
      "2\n"
     ]
    }
   ],
   "source": [
    "def count_substring(string, sub_string):\n",
    "    count = 0\n",
    "    i = string.find(sub_string)\n",
    "    while i != -1:\n",
    "        count += 1\n",
    "        i = string.find(sub_string, i+1)\n",
    "    return count\n",
    "\n",
    "if __name__ == '__main__':\n",
    "    string = input().strip()\n",
    "    sub_string = input().strip()\n",
    "    \n",
    "    count = count_substring(string, sub_string)\n",
    "    print(count)"
   ]
  },
  {
   "cell_type": "code",
   "execution_count": 28,
   "id": "fc7e0794",
   "metadata": {},
   "outputs": [
    {
     "name": "stdout",
     "output_type": "stream",
     "text": [
      "qA2\n",
      "True\n",
      "True\n",
      "True\n",
      "True\n",
      "True\n"
     ]
    }
   ],
   "source": [
    "if __name__ == '__main__':\n",
    "    s = str(input())\n",
    "    \n",
    "#     result = False\n",
    "#     for _,i in enumerate(s):\n",
    "#         if (i.isalnum()):\n",
    "#             result = True\n",
    "#             break\n",
    "#     print(result)\n",
    "        \n",
    "#     result = False\n",
    "#     for _,i in enumerate(s):\n",
    "#         if (i.isalpha()):\n",
    "#             result = True\n",
    "#             break\n",
    "#     print(result)\n",
    "            \n",
    "#     result = False\n",
    "#     for _,i in enumerate(s):\n",
    "#         if (i.isdigit()):\n",
    "#             result = True\n",
    "#             break\n",
    "#     print(result)\n",
    "        \n",
    "#     result = False\n",
    "#     for _,i in enumerate(s):\n",
    "#         if (i.islower()):\n",
    "#             result = True\n",
    "#             break\n",
    "#     print(result)\n",
    "        \n",
    "#     result = False\n",
    "#     for _,i in enumerate(s):\n",
    "#         if (i.isupper()):\n",
    "#             result = True\n",
    "#             break\n",
    "#     print(result)\n",
    "            \n",
    "    print(any(i.isalnum() for i in s))\n",
    "    print(any(i.isalpha() for i in s))\n",
    "    print(any(i.isdigit() for i in s))\n",
    "    print(any(i.islower() for i in s))\n",
    "    print(any(i.isupper() for i in s))"
   ]
  },
  {
   "cell_type": "code",
   "execution_count": 58,
   "id": "29cc70f8",
   "metadata": {},
   "outputs": [
    {
     "name": "stdout",
     "output_type": "stream",
     "text": [
      "ABCDEFGHIJKLIMNOQRSTUVWXYZ\n",
      "4\n",
      "ABCD\n",
      "EFGH\n",
      "IJKL\n",
      "IMNO\n",
      "QRST\n",
      "UVWX\n",
      "YZ\n"
     ]
    }
   ],
   "source": [
    "import textwrap\n",
    "\n",
    "def wrap(string, max_width):\n",
    "    return \"\\n\".join([string[i:i+max_width] for i in range(0, len(string), max_width)])\n",
    "\n",
    "if __name__ == '__main__':\n",
    "    string, max_width = input(), int(input())\n",
    "    result = wrap(string, max_width)\n",
    "    print(result)"
   ]
  },
  {
   "cell_type": "code",
   "execution_count": 75,
   "id": "940e338d",
   "metadata": {},
   "outputs": [
    {
     "name": "stdout",
     "output_type": "stream",
     "text": [
      "17\n",
      "    1     1     1     1\n",
      "    2     2     2    10\n",
      "    3     3     3    11\n",
      "    4     4     4   100\n",
      "    5     5     5   101\n",
      "    6     6     6   110\n",
      "    7     7     7   111\n",
      "    8    10     8  1000\n",
      "    9    11     9  1001\n",
      "   10    12     A  1010\n",
      "   11    13     B  1011\n",
      "   12    14     C  1100\n",
      "   13    15     D  1101\n",
      "   14    16     E  1110\n",
      "   15    17     F  1111\n",
      "   16    20    10 10000\n",
      "   17    21    11 10001\n"
     ]
    }
   ],
   "source": [
    "def print_formatted(number):\n",
    "    width = len(\"{0:b}\".format(number))\n",
    "    for i in range(1,number+1):\n",
    "        print(\"{0:{width}d} {0:{width}o} {0:{width}X} {0:{width}b}\".format(i, width=width))\n",
    "\n",
    "if __name__ == '__main__':\n",
    "    n = int(input())\n",
    "    print_formatted(n)"
   ]
  },
  {
   "cell_type": "code",
   "execution_count": 79,
   "id": "78799169",
   "metadata": {},
   "outputs": [
    {
     "name": "stdout",
     "output_type": "stream",
     "text": [
      "alireza nabavi\n",
      "Alireza Nabavi\n"
     ]
    }
   ],
   "source": [
    "#!/bin/python3\n",
    "\n",
    "import math\n",
    "import os\n",
    "import random\n",
    "import re\n",
    "import sys\n",
    "\n",
    "# Complete the solve function below.\n",
    "def solve(s):\n",
    "    return \" \".join([ss.capitalize() for ss in s.split(\" \")])\n",
    "\n",
    "if __name__ == '__main__':\n",
    "\n",
    "    s = input()\n",
    "\n",
    "    result = solve(s)\n",
    "    print(result)"
   ]
  },
  {
   "cell_type": "code",
   "execution_count": 81,
   "id": "e1a977e8",
   "metadata": {},
   "outputs": [
    {
     "data": {
      "text/plain": [
       "[1, 5, 34]"
      ]
     },
     "execution_count": 81,
     "metadata": {},
     "output_type": "execute_result"
    }
   ],
   "source": [
    "a = [1,2 ,34]\n",
    "a[1]= 5\n",
    "a"
   ]
  },
  {
   "cell_type": "markdown",
   "id": "e232598e",
   "metadata": {},
   "source": [
    "# Sets"
   ]
  },
  {
   "cell_type": "code",
   "execution_count": 5,
   "id": "a85acd27",
   "metadata": {},
   "outputs": [
    {
     "name": "stdout",
     "output_type": "stream",
     "text": [
      "10\n",
      "161 182 161 154 176 170 167 171 170 174\n",
      "169.375\n"
     ]
    }
   ],
   "source": [
    "def average(array):\n",
    "    return sum(set(array)) / len(set(array))\n",
    "\n",
    "if __name__ == '__main__':\n",
    "    n = int(input())\n",
    "    arr = list(map(int, input().split()))\n",
    "    result = average(arr)\n",
    "    print(result)"
   ]
  },
  {
   "cell_type": "code",
   "execution_count": 36,
   "id": "d2c8e722",
   "metadata": {},
   "outputs": [
    {
     "name": "stdout",
     "output_type": "stream",
     "text": [
      "4\n",
      "2 4 5 9\n",
      "4\n",
      "2 4 11 12\n",
      "5\n",
      "9\n",
      "11\n",
      "12\n"
     ]
    }
   ],
   "source": [
    "\n",
    "\n",
    "if __name__ == '__main__':\n",
    "    n = int(input())\n",
    "    arr1 = set(map(int, input().split()))\n",
    "    m = int(input())\n",
    "    arr2 = set(map(int, input().split()))\n",
    "    \n",
    "    lst = list((arr1.union(arr2)).difference(arr2.intersection(arr1)))\n",
    "    lst.sort()\n",
    "    \n",
    "    print(*lst,sep='\\n')\n"
   ]
  },
  {
   "cell_type": "code",
   "execution_count": 43,
   "id": "a1f3ca0a",
   "metadata": {},
   "outputs": [
    {
     "name": "stdout",
     "output_type": "stream",
     "text": [
      "10\n",
      " 1 2 3 4 5 6 7 8 9\n",
      "1\n",
      "rermove 5\n",
      "45\n"
     ]
    }
   ],
   "source": [
    "n = int(input())\n",
    "s = set(map(int, input().split()))\n",
    "\n",
    "n = int(input())\n",
    "for i in range(n):\n",
    "    command = input().rstrip().split()\n",
    "    if (str(command[0]) == 'pop'):\n",
    "        s.pop();\n",
    "    elif (str(command[0]) == 'remove'):\n",
    "        s.remove(int(command[1]))\n",
    "    elif (str(command[0]) == 'discard'):\n",
    "        s.discard(int(command[1]))\n",
    "        \n",
    "print(sum(list(s)))\n",
    "    \n"
   ]
  },
  {
   "cell_type": "code",
   "execution_count": 45,
   "id": "035cbc48",
   "metadata": {},
   "outputs": [
    {
     "name": "stdout",
     "output_type": "stream",
     "text": [
      "9\n",
      "1 2 3 4 5 6 7 8 9\n",
      "9\n",
      "10 1 2 3 11 21 55 6 8\n",
      "13\n"
     ]
    }
   ],
   "source": [
    "if __name__ == '__main__':\n",
    "    n = int(input())\n",
    "    arr1 = set(map(int, input().split()))\n",
    "    m = int(input())\n",
    "    arr2 = set(map(int, input().split()))\n",
    "    \n",
    "    print(len(list(arr1.union(arr2))))"
   ]
  },
  {
   "cell_type": "code",
   "execution_count": 46,
   "id": "84fdefa4",
   "metadata": {},
   "outputs": [
    {
     "name": "stdout",
     "output_type": "stream",
     "text": [
      "9\n",
      "1 2 3 4 5 6 7 8 9\n",
      "9\n",
      "10 1 2 3 11 21 55 6 8\n",
      "5\n"
     ]
    }
   ],
   "source": [
    "if __name__ == '__main__':\n",
    "    n = int(input())\n",
    "    arr1 = set(map(int, input().split()))\n",
    "    m = int(input())\n",
    "    arr2 = set(map(int, input().split()))\n",
    "    \n",
    "    print(len(list(arr1.intersection(arr2))))"
   ]
  },
  {
   "cell_type": "code",
   "execution_count": 1,
   "id": "0302c750",
   "metadata": {},
   "outputs": [
    {
     "name": "stdout",
     "output_type": "stream",
     "text": [
      "9\n",
      "1 2 3 4 5 6 7 8 9\n",
      "9\n",
      "10 1 2 3 11 21 55 6 8\n",
      "4\n"
     ]
    }
   ],
   "source": [
    "if __name__ == '__main__':\n",
    "    n = int(input())\n",
    "    arr1 = set(map(int, input().split()))\n",
    "    m = int(input())\n",
    "    arr2 = set(map(int, input().split()))\n",
    "    \n",
    "    print(len(list(arr1.difference(arr2))))"
   ]
  },
  {
   "cell_type": "code",
   "execution_count": 16,
   "id": "16812f3d",
   "metadata": {},
   "outputs": [
    {
     "name": "stdout",
     "output_type": "stream",
     "text": [
      "4\n",
      "1 2 3 4 5 5 \n",
      "4\n",
      "1 2\n",
      "3\n"
     ]
    }
   ],
   "source": [
    "if __name__ == '__main__':\n",
    "    n = int(input())\n",
    "    arr1 = set(map(int, input().split()))\n",
    "    m = int(input())\n",
    "    arr2 = set(map(int, input().split()))\n",
    "    \n",
    "    print(len(list(arr1 ^ (arr2))))"
   ]
  },
  {
   "cell_type": "code",
   "execution_count": 3,
   "id": "4debae40",
   "metadata": {},
   "outputs": [],
   "source": [
    "if __name__ == '__main__':\n",
    "    n = int(input())\n",
    "    arr1 = set(map(int, input().split()))\n",
    "    m = int(input())\n",
    "    for i in range(m):\n",
    "        command = input().strip().split(\" \")\n",
    "        lst = set(map(int,input().split()))\n",
    "        \n",
    "        if (str(command[0]) == 'intersection_update'):\n",
    "            arr1.intersection_update(lst)\n",
    "        elif (str(command[0]) == 'update'):\n",
    "            arr1.update(lst)\n",
    "        elif (str(command[0]) == 'difference_update'):\n",
    "            arr1.difference_update(lst)\n",
    "        elif (str(command[0]) == 'symmetric_difference_update'):\n",
    "            arr1.symmetric_difference_update(lst)          \n",
    "            \n",
    "    print(sum(arr1))"
   ]
  },
  {
   "cell_type": "code",
   "execution_count": 8,
   "id": "6ca45b28",
   "metadata": {},
   "outputs": [
    {
     "name": "stdout",
     "output_type": "stream",
     "text": [
      "5\n",
      "1 2 3 6 5 4 4 2 5 3 6 1 6 5 3 2 4 1 2 5 1 4 3 6 8 4 3 1 5 6 2\n",
      "8\n"
     ]
    }
   ],
   "source": [
    "if __name__ == '__main__':\n",
    "    k = int(input())\n",
    "    arr = list(map(int, input().split()))\n",
    "    myset = set(arr)\n",
    "    print(((sum(myset)*k)-(sum(arr)))//(k-1))\n",
    "    "
   ]
  },
  {
   "cell_type": "code",
   "execution_count": null,
   "id": "08b06df3",
   "metadata": {},
   "outputs": [],
   "source": [
    "for _ in range(int(input())):\n",
    "x, a, z, b = input(), set(input().split()), input(), set(input().split())\n",
    "print(a.issubset(b))"
   ]
  },
  {
   "cell_type": "code",
   "execution_count": 15,
   "id": "85fd09f4",
   "metadata": {},
   "outputs": [
    {
     "name": "stdout",
     "output_type": "stream",
     "text": [
      "1 2 3 4 5 6 7 8 9 10 11 12 23 45 84 78\n",
      "2\n",
      "1 2 3 4 5\n",
      "100 11 12\n",
      "False\n"
     ]
    }
   ],
   "source": [
    "seta = set(input().split())\n",
    "print(all([seta.issuperset(set(input().split())) for i in range(int(input()))]))"
   ]
  },
  {
   "cell_type": "code",
   "execution_count": 34,
   "id": "e65bdc58",
   "metadata": {},
   "outputs": [
    {
     "data": {
      "text/plain": [
       "-1"
      ]
     },
     "execution_count": 34,
     "metadata": {},
     "output_type": "execute_result"
    }
   ],
   "source": [
    "_ = input()\n",
    "array = input().split()\n",
    "like = set(input().split())\n",
    "dislike = set(input().split())\n",
    "print(sum((i in like) - (i in dislike) for i in array))\n",
    "\n",
    "# m, n = map(int, input().split())\n",
    "# set_ = set(input().split())\n",
    "# happiness = 0\n",
    "# A = set(input().split())\n",
    "# B = set(input().split())\n",
    "# for i,j in enumerate(set_):\n",
    "#     if (j in A):\n",
    "#         happiness += 1\n",
    "#         print(j)\n",
    "#     elif (j in B):\n",
    "#         happiness -= 1     \n",
    "#         print(j)\n",
    "# print(happiness)"
   ]
  },
  {
   "cell_type": "markdown",
   "id": "429b58a4",
   "metadata": {},
   "source": [
    "# Math"
   ]
  },
  {
   "cell_type": "code",
   "execution_count": 9,
   "id": "b864a436",
   "metadata": {},
   "outputs": [
    {
     "name": "stdout",
     "output_type": "stream",
     "text": [
      "1+2j\n",
      "2.23606797749979\n",
      "1.1071487177940904\n"
     ]
    }
   ],
   "source": [
    "import cmath\n",
    "N = complex(input().strip())\n",
    "r = abs(N)\n",
    "theta = cmath.phase(N)\n",
    "print(r)\n",
    "print(theta)"
   ]
  },
  {
   "cell_type": "code",
   "execution_count": 11,
   "id": "4638a22b",
   "metadata": {},
   "outputs": [
    {
     "name": "stdout",
     "output_type": "stream",
     "text": [
      "10\n",
      "10\n",
      "45°\n"
     ]
    }
   ],
   "source": [
    "import math\n",
    "AB,BC=int(input()),int(input())\n",
    "hype=math.hypot(AB,BC)                      #to calculate hypotenuse\n",
    "res=round(math.degrees(math.acos(BC/hype))) #to calculate required angle \n",
    "degree=chr(176)                                #for DEGREE symbol\n",
    "print(res,degree, sep='')"
   ]
  },
  {
   "cell_type": "code",
   "execution_count": 15,
   "id": "af89808e",
   "metadata": {},
   "outputs": [
    {
     "name": "stdout",
     "output_type": "stream",
     "text": [
      "5\n",
      "1\n",
      "121\n",
      "12321\n",
      "1234321\n",
      "123454321\n"
     ]
    }
   ],
   "source": [
    "for i in range(1,int(input())+1): \n",
    "    print((10**i//9)**2)"
   ]
  },
  {
   "cell_type": "code",
   "execution_count": 22,
   "id": "262c73fe",
   "metadata": {},
   "outputs": [
    {
     "name": "stdout",
     "output_type": "stream",
     "text": [
      "177\n",
      "10\n",
      "17\n",
      "7\n",
      "(17, 7)\n"
     ]
    }
   ],
   "source": [
    "a, b = int(input().strip()), int(input().strip())\n",
    "print(a//b)\n",
    "print(a%b)\n",
    "print(divmod(a,b))"
   ]
  },
  {
   "cell_type": "code",
   "execution_count": 23,
   "id": "545ab185",
   "metadata": {},
   "outputs": [
    {
     "name": "stdout",
     "output_type": "stream",
     "text": [
      "5\n",
      "1\n",
      "2\n",
      "5\n",
      "1\n"
     ]
    }
   ],
   "source": [
    "a,b ,m = int(input()), int(input()), int(input())\n",
    "print(pow(a,b))\n",
    "print(pow(a,b,m))"
   ]
  },
  {
   "cell_type": "code",
   "execution_count": 3,
   "id": "7d0cba54",
   "metadata": {},
   "outputs": [
    {
     "name": "stdout",
     "output_type": "stream",
     "text": [
      "9\n",
      "29\n",
      "7\n",
      "27\n",
      "4710194409608608369201743232\n"
     ]
    }
   ],
   "source": [
    "a, b, c, d = int(input()), int(input()), int(input()), int(input())\n",
    "print(pow(a,b) + c**d)"
   ]
  },
  {
   "cell_type": "code",
   "execution_count": 4,
   "id": "f90aac09",
   "metadata": {},
   "outputs": [
    {
     "name": "stdout",
     "output_type": "stream",
     "text": [
      "4\n",
      "1\n",
      "22\n",
      "333\n"
     ]
    }
   ],
   "source": [
    "for i in range(1,int(input())): #More than 2 lines will result in 0 score. Do not leave a blank line also\n",
    "    a = [10**j for j in range(i)]\n",
    "    print(sum(a)*i)"
   ]
  },
  {
   "cell_type": "markdown",
   "id": "0b6466dc",
   "metadata": {},
   "source": [
    "# Itertools"
   ]
  },
  {
   "cell_type": "code",
   "execution_count": 9,
   "id": "a6cf843a",
   "metadata": {},
   "outputs": [
    {
     "name": "stdout",
     "output_type": "stream",
     "text": [
      "1 2\n",
      "3 4\n",
      "(1, 3) (1, 4) (2, 3) (2, 4)\n"
     ]
    }
   ],
   "source": [
    "from itertools import product\n",
    "A = list(map(int,input().strip().split()))\n",
    "B = list(map(int,input().strip().split()))\n",
    "print(*list(product(A,B)),sep=' ')"
   ]
  },
  {
   "cell_type": "code",
   "execution_count": 35,
   "id": "cba27fb3",
   "metadata": {},
   "outputs": [
    {
     "name": "stdout",
     "output_type": "stream",
     "text": [
      "HACK 2\n",
      "AC\n",
      "AH\n",
      "AK\n",
      "CA\n",
      "CH\n",
      "CK\n",
      "HA\n",
      "HC\n",
      "HK\n",
      "KA\n",
      "KC\n",
      "KH\n"
     ]
    }
   ],
   "source": [
    "from itertools import permutations\n",
    "st, N = input().split()\n",
    "lst = list(permutations(sorted(st),int(N)))\n",
    "print(*[''.join(lst[i]) for i in range(len(lst))],sep ='\\n')"
   ]
  },
  {
   "cell_type": "code",
   "execution_count": 40,
   "id": "58748b4c",
   "metadata": {},
   "outputs": [
    {
     "name": "stdout",
     "output_type": "stream",
     "text": [
      "HACK 2\n",
      "A\n",
      "C\n",
      "H\n",
      "K\n",
      "AC\n",
      "AH\n",
      "AK\n",
      "CH\n",
      "CK\n",
      "HK\n"
     ]
    }
   ],
   "source": [
    "from itertools import combinations\n",
    "st, N = input().split()\n",
    "for i in range(int(N)):\n",
    "    lst = list(combinations(sorted(st),i+1))\n",
    "    print(*[''.join(lst[i]) for i in range(len(lst))],sep ='\\n')"
   ]
  },
  {
   "cell_type": "code",
   "execution_count": 3,
   "id": "42aade03",
   "metadata": {},
   "outputs": [
    {
     "name": "stdout",
     "output_type": "stream",
     "text": [
      "HACK 2\n",
      "AA\n",
      "AC\n",
      "AH\n",
      "AK\n",
      "CC\n",
      "CH\n",
      "CK\n",
      "HH\n",
      "HK\n",
      "KK\n"
     ]
    }
   ],
   "source": [
    "from itertools import combinations_with_replacement\n",
    "st, N = input().split()\n",
    "lst = list(combinations_with_replacement(sorted(st),int(N)))\n",
    "print(*[''.join(lst[i]) for i in range(len(lst))],sep ='\\n')"
   ]
  },
  {
   "cell_type": "code",
   "execution_count": 21,
   "id": "0d7d00e1",
   "metadata": {},
   "outputs": [
    {
     "name": "stdout",
     "output_type": "stream",
     "text": [
      "1222233344\n",
      "(1, 1) (2, 4) (3, 3) (4, 2)\n"
     ]
    }
   ],
   "source": [
    "from itertools import groupby\n",
    "print(*[(int(a), len(list(b))) for a,b in groupby(str(input()))])"
   ]
  },
  {
   "cell_type": "markdown",
   "id": "8af5a42e",
   "metadata": {},
   "source": [
    "# Collections"
   ]
  },
  {
   "cell_type": "code",
   "execution_count": 26,
   "id": "48a6f858",
   "metadata": {},
   "outputs": [
    {
     "name": "stdout",
     "output_type": "stream",
     "text": [
      "10\n",
      "2 3 4 5 6 8 7 6 5 18\n",
      "dict_keys([2, 3, 4, 5, 6, 8, 7, 18])\n",
      "6\n",
      "6 55\n",
      "6 45\n",
      "6 55\n",
      "4 40\n",
      "18 60\n",
      "10 50\n",
      "50\n"
     ]
    }
   ],
   "source": [
    "from collections import Counter\n",
    "N = int(input())\n",
    "shoe_list = list(map(int,input().split()))\n",
    "dic = Counter(shoe_list)\n",
    "M = int(input())\n",
    "salary = 0\n",
    "for i in range(M):\n",
    "    shoe, price = input().split()\n",
    "    if (int(shoe) in Counter(shoe_list).keys()):\n",
    "        if (dic[int(shoe)] > 0):\n",
    "            dic[int(shoe)] -= 1\n",
    "            salary += int(price)\n",
    "print(salary)"
   ]
  },
  {
   "cell_type": "code",
   "execution_count": 71,
   "id": "3ff5b00b",
   "metadata": {},
   "outputs": [
    {
     "name": "stdout",
     "output_type": "stream",
     "text": [
      "5 2\n",
      "a\n",
      "a\n",
      "a\n",
      "b\n",
      "b\n",
      "a\n",
      "b\n",
      "1 2 3\n",
      "4 5\n"
     ]
    }
   ],
   "source": [
    "from collections import defaultdict\n",
    "d = defaultdict(list)\n",
    "\n",
    "n , m = map(int, input().split())\n",
    "\n",
    "for i in range(n):\n",
    "    d[input()].append(i+1)\n",
    "    \n",
    "lst = [input() for i in range(m)]\n",
    "\n",
    "for i in lst:\n",
    "    if (i in d.keys()):\n",
    "        print(*d[i])\n",
    "    else:\n",
    "        print(-1)"
   ]
  },
  {
   "cell_type": "code",
   "execution_count": null,
   "id": "73c91534",
   "metadata": {},
   "outputs": [],
   "source": [
    "n = int(input().strip())\n",
    "grades = namedtuple('grades', input())\n",
    "sum = 0\n",
    "for i in range(n):\n",
    "    lst = input().split()\n",
    "    stu1 = grades(lst[0],lst[1],lst[2],lst[3])\n",
    "    sum += int(stu1.MARKS)\n",
    "print(sum/n)"
   ]
  },
  {
   "cell_type": "code",
   "execution_count": null,
   "id": "9e174aad",
   "metadata": {},
   "outputs": [],
   "source": [
    "# Enter your code here. Read input from STDIN. Print output to STDOUT\n",
    "from collections import OrderedDict\n",
    "dic = OrderedDict()\n",
    "for i in range(int(input().strip())):\n",
    "    lst = input().split()\n",
    "    name = ' '.join(lst[0:-1])\n",
    "    if (name in dic.keys()):\n",
    "        dic[name] += int(lst[-1])\n",
    "    else:\n",
    "        dic[name] = int(lst[-1])\n",
    "\n",
    "for food, price in dic.items():\n",
    "    print(food, price)"
   ]
  },
  {
   "cell_type": "code",
   "execution_count": null,
   "id": "9bdff259",
   "metadata": {},
   "outputs": [],
   "source": [
    "# Enter your code here. Read input from STDIN. Print output to STDOUT\n",
    "from collections import OrderedDict\n",
    "dic = OrderedDict()\n",
    "for i in range(int(input())):\n",
    "    word = str(input())\n",
    "    if word in dic.keys():\n",
    "        dic[str(word)] += 1\n",
    "    else:\n",
    "        dic[str(word)] = 1\n",
    "print(len(dic))\n",
    "print(*dic.values(),sep=' ')\n"
   ]
  },
  {
   "cell_type": "code",
   "execution_count": 9,
   "id": "fac5fd10",
   "metadata": {},
   "outputs": [
    {
     "name": "stdout",
     "output_type": "stream",
     "text": [
      "6\n",
      "append 1\n",
      "append 2\n",
      "append 3\n",
      "appendleft 4\n",
      "pop\n",
      "popleft\n",
      "deque([4, 1, 2, 3])\n"
     ]
    }
   ],
   "source": [
    "from collections import deque\n",
    "d = deque()\n",
    "for i in range(int(input())):\n",
    "    command= input().split()\n",
    "    if (str(command[0]) == 'append'):\n",
    "        d.append(int(command[1]))\n",
    "    elif (str(command[0]) == 'appendleft'):\n",
    "        d.appendleft(int(command[1]))\n",
    "    elif (str(command[0]) == 'pop'):\n",
    "        d.pop()\n",
    "    elif (str(command[0]) == 'popleft'):\n",
    "        d.popleft()\n",
    "print(*d)"
   ]
  },
  {
   "cell_type": "code",
   "execution_count": 2,
   "id": "74517a0f",
   "metadata": {},
   "outputs": [
    {
     "data": {
      "text/plain": [
       "['a', 'a', 'b', 'b', 'b', 'c', 'c', 'd', 'e', 'e']"
      ]
     },
     "execution_count": 2,
     "metadata": {},
     "output_type": "execute_result"
    }
   ],
   "source": [
    "sorted('eaabbbccde')"
   ]
  },
  {
   "cell_type": "code",
   "execution_count": null,
   "id": "16de8f5c",
   "metadata": {},
   "outputs": [],
   "source": [
    "Dict={}\n",
    "for x in sorted(s):\n",
    "    Dict[x]=Dict.get(x,0)+1   \n",
    "#Sorting Dict by value & storing sorted keys in Dict_keys.\n",
    "Dict_keys=sorted(Dict, key=Dict.get, reverse=True)  \n",
    "\n",
    "for key in Dict_keys[:3]:\n",
    "    print(key,Dict[key])"
   ]
  },
  {
   "cell_type": "markdown",
   "id": "64ec65ab",
   "metadata": {},
   "source": [
    "# Date and time"
   ]
  },
  {
   "cell_type": "code",
   "execution_count": 13,
   "id": "1f120ded",
   "metadata": {},
   "outputs": [
    {
     "name": "stdout",
     "output_type": "stream",
     "text": [
      "08 05 2015\n",
      "2\n",
      "WEDNESDAY\n"
     ]
    }
   ],
   "source": [
    "import calendar\n",
    "m,d,y = map(int,input().split())\n",
    "print(calendar.weekday(y, m, d))\n",
    "print(list(calendar.day_name)[calendar.weekday(y, m, d)].upper())"
   ]
  },
  {
   "cell_type": "code",
   "execution_count": null,
   "id": "c58723cb",
   "metadata": {},
   "outputs": [],
   "source": [
    "from datetime import datetime as dt\n",
    "\n",
    "\n",
    "fmt = '%a %d %b %Y %H:%M:%S %z'\n",
    "for i in range(int(input())):\n",
    "    print(int(abs((dt.strptime(input(), fmt) - \n",
    "                   dt.strptime(input(), fmt)).total_seconds())))\n"
   ]
  },
  {
   "cell_type": "markdown",
   "id": "20055d2d",
   "metadata": {},
   "source": [
    "# Built in"
   ]
  },
  {
   "cell_type": "code",
   "execution_count": 7,
   "id": "bf22c599",
   "metadata": {},
   "outputs": [
    {
     "name": "stdout",
     "output_type": "stream",
     "text": [
      "[1, 2, 3, 4, 5, 6]\n"
     ]
    }
   ],
   "source": [
    "n, x = map(int, input().split()) \n",
    "\n",
    "sheet = []\n",
    "for _ in range(x):\n",
    "    sheet.append( map(float, input().split()) ) \n",
    "\n",
    "for i in zip(*sheet): \n",
    "    print( sum(i)/len(i) )"
   ]
  },
  {
   "cell_type": "code",
   "execution_count": null,
   "id": "4812770e",
   "metadata": {},
   "outputs": [],
   "source": [
    "x, k = list(map(int,input().split()))\n",
    "print(eval(input()) == k)"
   ]
  },
  {
   "cell_type": "code",
   "execution_count": 9,
   "id": "abdb8f09",
   "metadata": {},
   "outputs": [
    {
     "name": "stdout",
     "output_type": "stream",
     "text": [
      "print(2 + 3)\n",
      "5\n"
     ]
    }
   ],
   "source": [
    "inp = input()\n",
    "eval(inp)"
   ]
  },
  {
   "cell_type": "code",
   "execution_count": null,
   "id": "6cf17ba3",
   "metadata": {},
   "outputs": [],
   "source": [
    "#!/bin/python3\n",
    "\n",
    "import math\n",
    "import os\n",
    "import random\n",
    "import re\n",
    "import sys\n",
    "\n",
    "\n",
    "\n",
    "if __name__ == '__main__':\n",
    "    nm = input().split()\n",
    "\n",
    "    n = int(nm[0])\n",
    "\n",
    "    m = int(nm[1])\n",
    "\n",
    "    arr = []\n",
    "\n",
    "    for _ in range(n):\n",
    "        arr.append(list(map(int, input().rstrip().split())))\n",
    "\n",
    "    k = int(input())\n",
    "\n",
    "    arr.sort(key = lambda i: i[k])\n",
    "    for j in range(n):\n",
    "        print(*arr[j])"
   ]
  },
  {
   "cell_type": "code",
   "execution_count": 12,
   "id": "85d47c89",
   "metadata": {},
   "outputs": [
    {
     "name": "stdout",
     "output_type": "stream",
     "text": [
      "12 9 61 5 14 \n"
     ]
    }
   ],
   "source": [
    "# Enter your code here. Read input from STDIN. Print output to STDOUT\n",
    "n = int(input())\n",
    "lst = input().split()\n",
    "\n",
    "if (all(int(i) > 0 for i in lst)):\n",
    "    if (any(i == i[::-1] for i in lst)):\n",
    "        print('True')\n",
    "    else:\n",
    "        print('False')\n",
    "else:\n",
    "    print('False')\n"
   ]
  },
  {
   "cell_type": "code",
   "execution_count": 10,
   "id": "eb92111b",
   "metadata": {},
   "outputs": [
    {
     "name": "stdout",
     "output_type": "stream",
     "text": [
      "Sorting1234\n",
      "ortingS1324\n"
     ]
    }
   ],
   "source": [
    "print(*(sorted(input(), key=lambda x: (x.isdigit(), x.isdigit() and int(x)%2==0, x.isupper(), x.islower(), x))), sep='')"
   ]
  },
  {
   "cell_type": "markdown",
   "id": "b3821f95",
   "metadata": {},
   "source": [
    "# Python Functionals"
   ]
  },
  {
   "cell_type": "code",
   "execution_count": 37,
   "id": "67cd90a3",
   "metadata": {},
   "outputs": [
    {
     "name": "stdout",
     "output_type": "stream",
     "text": [
      "0\n",
      "[]\n"
     ]
    }
   ],
   "source": [
    "cube = lambda x: x**3 # complete the lambda function \n",
    "\n",
    "def fibonacci(n):\n",
    "    fib = [0,1]\n",
    "    for i in range(2,n):\n",
    "        fib.append(int(fib[i-1] +fib[i-2]))\n",
    "    return fib[0:n]\n",
    "\n",
    "if __name__ == '__main__':\n",
    "    n = int(input())\n",
    "    print(list(map(cube, fibonacci(n))))"
   ]
  },
  {
   "cell_type": "code",
   "execution_count": null,
   "id": "7787ee1e",
   "metadata": {},
   "outputs": [],
   "source": [
    "#skipped will comeback"
   ]
  },
  {
   "cell_type": "markdown",
   "id": "60d38ff7",
   "metadata": {},
   "source": [
    "# Numpy"
   ]
  },
  {
   "cell_type": "code",
   "execution_count": 49,
   "id": "292eefd8",
   "metadata": {},
   "outputs": [
    {
     "name": "stdout",
     "output_type": "stream",
     "text": [
      "1 2 3 4 -8 -10\n",
      "[-10.  -8.   1.   2.   3.   4.]\n"
     ]
    }
   ],
   "source": [
    "import numpy\n",
    "\n",
    "def arrays(arr):\n",
    "    # complete this function\n",
    "    # use numpy.array\n",
    "    arr.reverse()\n",
    "    return numpy.array(arr,float)\n",
    "\n",
    "arr = input().strip().split(' ')\n",
    "result = arrays(arr)\n",
    "print(result)"
   ]
  },
  {
   "cell_type": "code",
   "execution_count": null,
   "id": "91553601",
   "metadata": {},
   "outputs": [],
   "source": [
    "import numpy as np\n",
    "print(np.array(list(map(int,input().split()))).reshape((3,3)))\n",
    "\n"
   ]
  },
  {
   "cell_type": "code",
   "execution_count": 4,
   "id": "ddd7d7b7",
   "metadata": {},
   "outputs": [
    {
     "name": "stdout",
     "output_type": "stream",
     "text": [
      "2 2\n",
      "1 2\n",
      "3 4\n",
      "<built-in method transpose of numpy.ndarray object at 0x7fe3395ea330>\n"
     ]
    }
   ],
   "source": [
    "import numpy as np\n",
    "n, m = list(map(int,input().split()))\n",
    "arr = np.array([list(map(int,input().split())) for _ in range(n)])\n",
    "print(np.transpose(arr))\n",
    "print(arr.flatten())"
   ]
  },
  {
   "cell_type": "code",
   "execution_count": 3,
   "id": "789616e5",
   "metadata": {},
   "outputs": [
    {
     "data": {
      "text/plain": [
       "array([[1, 2],\n",
       "       [3, 4]])"
      ]
     },
     "execution_count": 3,
     "metadata": {},
     "output_type": "execute_result"
    }
   ],
   "source": [
    "import numpy as np\n",
    "m, n, p = list(map(int,input().split()))\n",
    "arr1 = np.array([list(map(int,input().split())) for _ in range(m)])\n",
    "arr2 = np.array([list(map(int,input().split())) for _ in range(n)])\n",
    "print(np.concatenate((arr1,arr2),axis=0))\n"
   ]
  },
  {
   "cell_type": "code",
   "execution_count": null,
   "id": "4945f521",
   "metadata": {},
   "outputs": [],
   "source": [
    "import numpy\n",
    "d = tuple(  map(int,(input().split())     ))\n",
    "\n",
    "arr1 = numpy.zeros((d), dtype = numpy.int)\n",
    "print(arr1)\n",
    "    \n",
    "arr2 = numpy.ones((d), dtype = numpy.int)\n",
    "print(arr2)"
   ]
  },
  {
   "cell_type": "code",
   "execution_count": null,
   "id": "fa10ad66",
   "metadata": {},
   "outputs": [],
   "source": [
    "import numpy\n",
    "numpy.set_printoptions(legacy='1.13')\n",
    "m, n = list(map(int,input().split()))\n",
    "print(numpy.eye(m,n))\n",
    "\n",
    "\n"
   ]
  },
  {
   "cell_type": "code",
   "execution_count": 9,
   "id": "1e582425",
   "metadata": {},
   "outputs": [
    {
     "name": "stdout",
     "output_type": "stream",
     "text": [
      "1 4\n",
      "1 2 3 4\n",
      "1 2 3 4\n",
      "1 2 3 4\n",
      "1 2 3 4\n"
     ]
    }
   ],
   "source": [
    "import numpy as np\n",
    "m, n = list(map(int,input().split()))\n",
    "a = np.array([list(map(int,input().split())) for _ in range(n)])"
   ]
  },
  {
   "cell_type": "code",
   "execution_count": null,
   "id": "1ebddc3a",
   "metadata": {},
   "outputs": [],
   "source": [
    "import numpy as np\n",
    "m, n = list(map(int,input().split()))\n",
    "a = np.array([list(map(int,input().split())) for _ in range(m)])\n",
    "b = np.array([list(map(int,input().split())) for _ in range(m)])\n",
    "print(a + b)\n",
    "print(a - b)\n",
    "print(a * b)\n",
    "print(a // b)\n",
    "print(a % b)\n",
    "print(a ** b)\n"
   ]
  },
  {
   "cell_type": "code",
   "execution_count": null,
   "id": "fd198e6c",
   "metadata": {},
   "outputs": [],
   "source": [
    "import numpy as np\n",
    "np.set_printoptions(legacy='1.13')\n",
    "arr = list(map(float,input().split()))\n",
    "print(np.floor(arr),np.ceil(arr),np.rint(arr),sep='\\n')\n",
    "\n",
    "\n",
    "\n"
   ]
  },
  {
   "cell_type": "code",
   "execution_count": null,
   "id": "d13e3e53",
   "metadata": {},
   "outputs": [],
   "source": [
    "import numpy as np\n",
    "n, m = list(map(int,input().split()))\n",
    "print(np.prod(np.sum([list(map(int,input().split())) for _ in range(m)],axis = 0)))\n",
    "\n",
    "\n"
   ]
  },
  {
   "cell_type": "code",
   "execution_count": null,
   "id": "027f4d33",
   "metadata": {},
   "outputs": [],
   "source": [
    "import numpy as np\n",
    "n, m = list(map(int,input().split()))\n",
    "print(np.max(np.min([list(map(int,input().split())) for _ in range(n)],axis = 1)))\n",
    "\n",
    "\n"
   ]
  },
  {
   "cell_type": "code",
   "execution_count": null,
   "id": "0722e50d",
   "metadata": {},
   "outputs": [],
   "source": [
    "import numpy as np\n",
    "#np.set_printoptions(legacy='1.13')\n",
    "n, m = list(map(int,input().split()))\n",
    "arr = [list(map(int,input().split())) for _ in range(m)]\n",
    "print(np.mean(arr,axis = 1),np.var(arr,axis = 0),round(np.std(arr,axis = None),11),sep='\\n')\n"
   ]
  },
  {
   "cell_type": "code",
   "execution_count": null,
   "id": "bc8ee733",
   "metadata": {},
   "outputs": [],
   "source": [
    "import numpy as np\n",
    "print(np.polyval(list(map(float,input().split())),float(input().rstrip())))\n",
    "\n",
    "\n"
   ]
  },
  {
   "cell_type": "code",
   "execution_count": 1,
   "id": "3cf0291e",
   "metadata": {},
   "outputs": [
    {
     "name": "stdout",
     "output_type": "stream",
     "text": [
      "2\n",
      "1.1 1.1\n",
      "1.1 1.2\n",
      "0.10999999999999982\n"
     ]
    }
   ],
   "source": [
    "import numpy as np\n",
    "print(np.linalg.det([list(map(float,input().split())) for _ in range(int(input()))]))\n",
    "\n",
    "\n"
   ]
  },
  {
   "cell_type": "code",
   "execution_count": null,
   "id": "1ac103f7",
   "metadata": {},
   "outputs": [],
   "source": []
  }
 ],
 "metadata": {
  "kernelspec": {
   "display_name": "Python 3 (ipykernel)",
   "language": "python",
   "name": "python3"
  },
  "language_info": {
   "codemirror_mode": {
    "name": "ipython",
    "version": 3
   },
   "file_extension": ".py",
   "mimetype": "text/x-python",
   "name": "python",
   "nbconvert_exporter": "python",
   "pygments_lexer": "ipython3",
   "version": "3.9.12"
  }
 },
 "nbformat": 4,
 "nbformat_minor": 5
}
