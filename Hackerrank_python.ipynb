{
 "cells": [
  {
   "cell_type": "markdown",
   "id": "165188c7",
   "metadata": {},
   "source": [
    "# Introduction"
   ]
  },
  {
   "cell_type": "code",
   "execution_count": 8,
   "id": "5e2ca926",
   "metadata": {},
   "outputs": [
    {
     "name": "stdout",
     "output_type": "stream",
     "text": [
      "2100\n",
      "False\n"
     ]
    }
   ],
   "source": [
    "def is_leap(year):\n",
    "    leap = False\n",
    "    if (year%4 == 0):\n",
    "        leap = True\n",
    "        if (year%400 == 0):\n",
    "            leap = True\n",
    "        elif (year%100 == 0):\n",
    "            leap = False\n",
    "            \n",
    "    \n",
    "    return leap\n",
    "\n",
    "year = int(input())\n",
    "print(is_leap(year))"
   ]
  },
  {
   "cell_type": "code",
   "execution_count": 29,
   "id": "3f45b1a3",
   "metadata": {},
   "outputs": [
    {
     "name": "stdout",
     "output_type": "stream",
     "text": [
      "10\n",
      "12345678910\n",
      "12345678910\n",
      "12345678910\n"
     ]
    }
   ],
   "source": [
    "if __name__ == '__main__':\n",
    "    n = int(input())\n",
    "    st = ''\n",
    "    for i in range(1,n+1):\n",
    "        st += str(i)\n",
    "    print(st)\n",
    "    \n",
    "    print(*list(map(str,range(1,n+1))),sep='')\n",
    "    print(''.join([str(i) for i in range(1,n+1)]))\n",
    "    # Learn the second method\n",
    "    # Star in fron of the list print all of the members in one line. Also remember sep option.\n",
    "    # Also learn the \"\".join(lst)"
   ]
  },
  {
   "cell_type": "markdown",
   "id": "d1643076",
   "metadata": {},
   "source": [
    "* I skipped rest of the questions in this part beccause did not contain useful tips."
   ]
  },
  {
   "cell_type": "markdown",
   "id": "1db97e09",
   "metadata": {},
   "source": [
    "# Basic Data Types"
   ]
  },
  {
   "cell_type": "code",
   "execution_count": 31,
   "id": "a6d3e2b7",
   "metadata": {},
   "outputs": [
    {
     "name": "stdout",
     "output_type": "stream",
     "text": [
      "1\n",
      "1\n",
      "1\n",
      "2\n",
      "[[0, 0, 0], [0, 0, 1], [0, 1, 0], [1, 0, 0], [1, 1, 1]]\n"
     ]
    }
   ],
   "source": [
    "if __name__ == '__main__':\n",
    "    x = int(input())\n",
    "    y = int(input())\n",
    "    z = int(input())\n",
    "    n = int(input())\n",
    "    \n",
    "    lst = []\n",
    "    for i in range(x+1):\n",
    "        for j in range(y+1):\n",
    "            for k in range(z+1):\n",
    "                if (i + j + k != n):\n",
    "                    lst.append([i,j,k])\n",
    "    print(lst)\n",
    "    \n",
    "    # second method\n",
    "    # print([ [i, j, k] for i in range(x+1) for j in range(y+1) for k in range(z+1) if i+j+k !=n ])\n",
    "    # learn multiple for loops with if in on line."
   ]
  },
  {
   "cell_type": "code",
   "execution_count": 37,
   "id": "3fefcbe6",
   "metadata": {},
   "outputs": [
    {
     "name": "stdout",
     "output_type": "stream",
     "text": [
      "5\n",
      "2 3 6 6 5\n",
      "5\n"
     ]
    }
   ],
   "source": [
    "if __name__ == '__main__':\n",
    "    n = int(input())\n",
    "    arr = map(int, input().split())\n",
    "    print(sorted(list(set(arr)),reverse=True)[1])\n",
    "    \n",
    "# sorted(iterable, key=key, reverse=reverse)\n",
    "# list.sort(reverse=True|False, key=myFunc)"
   ]
  },
  {
   "cell_type": "code",
   "execution_count": null,
   "id": "ccfc6338",
   "metadata": {},
   "outputs": [],
   "source": [
    "if __name__ == '__main__':\n",
    "    scores = []\n",
    "    names = []\n",
    "    for _ in range(int(input())):\n",
    "        name = input()\n",
    "        score = float(input())\n",
    "        scores.append(score)\n",
    "        names.append(name)\n",
    "        \n",
    "target = sorted(list(set(scores)))[1]\n",
    "inx = [i for i in range(len(scores)) if target == scores[i]]\n",
    "lst = []\n",
    "for i in inx:\n",
    "    lst.append(names[i])\n",
    "print(*sorted(lst),sep='\\n')\n",
    "\n",
    "# Note that how you find the index of maximum elements in a list\n",
    "# Tip: how to print list elements in new lines"
   ]
  },
  {
   "cell_type": "code",
   "execution_count": null,
   "id": "beadc910",
   "metadata": {},
   "outputs": [],
   "source": [
    "if __name__ == '__main__':\n",
    "    n = int(input())\n",
    "    student_marks = {}\n",
    "    for _ in range(n):\n",
    "        name, *line = input().split()\n",
    "        scores = list(map(float, line))\n",
    "        student_marks[name] = scores\n",
    "    query_name = input()\n",
    "    \n",
    "    print('{:0.2f}'.format(sum(student_marks[query_name]) / len(student_marks[query_name])))\n",
    "    \n",
    "# Learn formated print for two decimals for fuck sake!"
   ]
  },
  {
   "cell_type": "code",
   "execution_count": null,
   "id": "0cfbb862",
   "metadata": {},
   "outputs": [],
   "source": [
    "# Lists\n",
    "if __name__ == '__main__':\n",
    "    N = int(input())\n",
    "    lst = []\n",
    "    for i in range(N):\n",
    "        command = input().strip().split(\" \")\n",
    "        if (command[0] == 'insert'):\n",
    "            lst.insert(int(command[1]),int(command[2]))\n",
    "        elif (command[0] == 'print'):\n",
    "            print(lst)\n",
    "        elif (command[0] == 'remove'):\n",
    "            try:\n",
    "                lst.remove(int(command[1]))\n",
    "            except ValueError:\n",
    "                pass  # do nothing!\n",
    "        elif (command[0] == 'append'):\n",
    "            lst.append(int(command[1]))\n",
    "        elif (command[0] == 'sort'):\n",
    "            lst.sort()\n",
    "        elif (command[0] == 'pop'):\n",
    "            lst.pop(-1)\n",
    "        elif (command[0] == 'reverse'):\n",
    "            lst.reverse()\n",
    "            \n",
    "# Tips: insert(a,b) inserts a at b-th index\n",
    "# If remove(a) will return ValueError if a not in a\n",
    "# Learn try and except\n",
    "# Function sort() won't return anything. Just using lst.sort() is enough\n",
    "# The same goes for lst.pop()"
   ]
  },
  {
   "cell_type": "code",
   "execution_count": 1,
   "id": "cf361a83",
   "metadata": {},
   "outputs": [],
   "source": [
    "# Tuples\n",
    "if __name__ == '__main__':\n",
    "    n = int(input())\n",
    "    integer_list = map(int, input().split())\n",
    "    print(hash(tuple(integer_list)))\n",
    "    \n",
    "# Tip: tuple(list) "
   ]
  },
  {
   "cell_type": "code",
   "execution_count": 5,
   "id": "2676200c",
   "metadata": {},
   "outputs": [
    {
     "name": "stdout",
     "output_type": "stream",
     "text": [
      "BAANANAS\n",
      "Kevin  19\n"
     ]
    }
   ],
   "source": [
    "# The Minion Game\n",
    "\n",
    "def minion_game(string):\n",
    "    vowels = ['U','E','I','O','A']\n",
    "    stu = 0; kev = 0;\n",
    "    for i,letter in enumerate(string):\n",
    "        if letter in vowels:\n",
    "            kev += len(string) - i\n",
    "        else:\n",
    "            stu += len(string) - i\n",
    "    if kev > stu:\n",
    "        print('Kevin',kev)\n",
    "    elif kev < stu:\n",
    "        print('Stuart',stu)\n",
    "    else:\n",
    "        print('Draw')\n",
    "    return\n",
    "            \n",
    "\n",
    "if __name__ == '__main__':\n",
    "    s = input()\n",
    "    minion_game(s)\n",
    "    \n",
    "# Tips: 1) len(str) works on strings\n",
    "# for i, letter in enumerate(string):"
   ]
  },
  {
   "cell_type": "code",
   "execution_count": null,
   "id": "448528a1",
   "metadata": {},
   "outputs": [],
   "source": [
    "# sWAP cASE\n",
    "\n",
    "def swap_case(s):\n",
    "    res = ''\n",
    "    for letter in s:\n",
    "        if (letter.islower()):\n",
    "            res += letter.upper()\n",
    "        else:\n",
    "            res += letter.lower()\n",
    "    return res\n",
    "\n",
    "if __name__ == '__main__':\n",
    "    s = input()\n",
    "    result = swap_case(s)\n",
    "    print(result)\n",
    "-----------------------------\n",
    "def swap_case(s):\n",
    "    return \"\".join(list(map(lambda e : (e.lower() if e.isupper() else e.upper()),s)))\n",
    "-----------------------------\n",
    "def swap_case(s):\n",
    "    res = ''\n",
    "    for letter in s:\n",
    "        if (letter.islower()):\n",
    "            res += letter.upper()\n",
    "        else:\n",
    "            res += letter.lower()\n",
    "    return res\n",
    "    return ''.join([letter.lower() if letter.upper() else letter.lower() for letter in s])\n",
    "\n",
    "if __name__ == '__main__':\n",
    "    s = input()\n",
    "    result = swap_case(s)\n",
    "    print(result)\n",
    "    \n",
    "# Tips: 1) Learn islower(), isupper(), lower(), upper()\n",
    "# 2) How to do if and for in one line\n",
    "# 3) \"\".join(lst(str))\n",
    "# 4) learn lambda"
   ]
  },
  {
   "cell_type": "code",
   "execution_count": null,
   "id": "25a71663",
   "metadata": {},
   "outputs": [],
   "source": [
    "# String Split and Join\n",
    "\n",
    "def split_and_join(line):\n",
    "    return \"-\".join(line.split(' '))\n",
    "\n",
    "if __name__ == '__main__':\n",
    "    line = input()\n",
    "    result = split_and_join(line)\n",
    "    print(result)\n",
    "    \n",
    "# Tips: 1) \" \".join(lst(string))\n",
    "#     2) string.split('something')"
   ]
  },
  {
   "cell_type": "code",
   "execution_count": null,
   "id": "bd9252bb",
   "metadata": {},
   "outputs": [],
   "source": [
    "# What's Your Name?\n",
    "\n",
    "def print_full_name(first, last):\n",
    "    print('Hello '+ first + ' ' +  last + '! You just delved into python.')\n",
    "    print(\"Hello %s %s! You just delved into python.\" % (first, last))\n",
    "    print(\"Hello {} {}! You just delved into python.\".format(first,last))\n",
    "    return \n",
    "\n",
    "if __name__ == '__main__':\n",
    "    first_name = input()\n",
    "    last_name = input()\n",
    "    print_full_name(first_name, last_name)\n",
    "    \n",
    "# Tip: 1) https://www.geeksforgeeks.org/string-formatting-in-python/"
   ]
  },
  {
   "cell_type": "code",
   "execution_count": null,
   "id": "0ea3e7fc",
   "metadata": {},
   "outputs": [],
   "source": [
    "# Mutations\n",
    "\n",
    "def mutate_string(string, position, character):\n",
    "    return \"\".join([char if i!= position else character for i,char in enumerate(string)])\n",
    "    # lst = list(string)\n",
    "    # lst[position] = character\n",
    "    # return \"\".join(lst)\n",
    "\n",
    "if __name__ == '__main__':\n",
    "    s = input()\n",
    "    i, c = input().split()\n",
    "    s_new = mutate_string(s, int(i), c)\n",
    "    print(s_new)\n",
    "    \n",
    "# Tips: 1) We have seen that lists are mutable (they can be changed), \n",
    "# and tuples are immutable (they cannot be changed)."
   ]
  },
  {
   "cell_type": "code",
   "execution_count": null,
   "id": "39e607f7",
   "metadata": {},
   "outputs": [],
   "source": [
    "# Find a string\n",
    "\n",
    "def count_substring(string, sub_string):\n",
    "    k = len(sub_string)\n",
    "    cnt = 0\n",
    "    for i in range(len(string) - k + 1):\n",
    "        if (string[i:i+k] == sub_string):\n",
    "            cnt += 1\n",
    "    return cnt \n",
    "\n",
    "if __name__ == '__main__':\n",
    "    string = input().strip()\n",
    "    sub_string = input().strip()\n",
    "    \n",
    "    count = count_substring(string, sub_string)\n",
    "    print(count)\n",
    "\n",
    "# Tips: 1) .capitalize() Only first letter will be upper case\n",
    "#     2) .find('str') and .rfind('str') finds the index\n",
    "#     3) .replace('str1','str2')"
   ]
  },
  {
   "cell_type": "code",
   "execution_count": null,
   "id": "ffc084ef",
   "metadata": {},
   "outputs": [],
   "source": [
    "# String Validators\n",
    "\n",
    "if __name__ == '__main__':\n",
    "    s = input()\n",
    "    print(any([i.isalnum() for i in s]))\n",
    "    print(any([i.isalpha() for i in s]))\n",
    "    print(any([i.isdigit() for i in s]))\n",
    "    print(any([i.islower() for i in s]))\n",
    "    print(any([i.isupper() for i in s]))\n",
    "\n",
    "\n",
    "\n",
    "# str.isalnum()\n",
    "# This method checks if all the characters of a string are alphanumeric (a-z, A-Z and 0-9).\n",
    "\n",
    "# str.isalpha()\n",
    "# This method checks if all the characters of a string are alphabetical (a-z and A-Z).\n",
    "\n",
    "# str.isdigit()\n",
    "# This method checks if all the characters of a string are digits (0-9).\n",
    "\n",
    "# str.islower()\n",
    "# This method checks if all the characters of a string are lowercase characters (a-z).\n",
    "\n",
    "# str.isupper()\n",
    "# This method checks if all the characters of a string are uppercase characters (A-Z)."
   ]
  },
  {
   "cell_type": "code",
   "execution_count": null,
   "id": "d0633450",
   "metadata": {},
   "outputs": [],
   "source": [
    "# Merge the Tools!\n",
    "\n",
    "def merge_the_tools(string, k):\n",
    "    lst = []\n",
    "    for i,letter in enumerate(string):\n",
    "        lst.append(letter)\n",
    "        if ((i+1)%k == 0):\n",
    "            print(''.join(list(set(lst))))\n",
    "            lst = []\n",
    "\n",
    "if __name__ == '__main__':\n",
    "    string, k = input(), int(input())\n",
    "    merge_the_tools(string, k)\n",
    "----------------------------------------------------------\n",
    "def merge_the_tools(string, k):\n",
    "    import textwrap\n",
    "    res = textwrap.wrap(string, k)\n",
    "    for split in res:\n",
    "        print(''.join(list(set(split))))\n",
    "----------------------------------------------------------\n",
    "# Tips: 1) you can find unique elements of a list using set \n",
    "#     2) Learn textwrap.wrap"
   ]
  },
  {
   "cell_type": "code",
   "execution_count": null,
   "id": "3bcd7e4d",
   "metadata": {},
   "outputs": [],
   "source": [
    "# Text Alignment\n",
    "\n",
    "# The problem was useless.\n",
    "\n",
    "\n",
    "# Tips: 1) In Python, a string of text can be aligned left, right and center.\n",
    "#     'HackerRank'.ljust(width,'-')\n",
    "#     'HackerRank'.rjust(width,'-')\n",
    "#     'HackerRank'.center(width,'-')"
   ]
  },
  {
   "cell_type": "code",
   "execution_count": null,
   "id": "73a83d53",
   "metadata": {},
   "outputs": [],
   "source": [
    "# Text Wrap\n",
    "\n",
    "def wrap(string, max_width):\n",
    "    return '\\n'.join([string[i:i+max_width] for i in range(0,len(string),max_width)])\n",
    "\n",
    "if __name__ == '__main__':\n",
    "    string, max_width = input(), int(input())\n",
    "    result = wrap(string, max_width)\n",
    "    print(result)\n",
    "\n",
    "    # Tips: 1) range(start,end,step)"
   ]
  },
  {
   "cell_type": "code",
   "execution_count": null,
   "id": "77a4397a",
   "metadata": {},
   "outputs": [],
   "source": [
    "# String Formatting\n",
    "\n",
    "def print_formatted(number):\n",
    "    width = len(\"{0:b}\".format(number))\n",
    "    for i in range(1,number+1):\n",
    "        print(\"{0:{width}d} {0:{width}o} {0:{width}X} {0:{width}b}\".format(i, width=width))\n",
    "\n",
    "if __name__ == '__main__':\n",
    "    n = int(input())\n",
    "    print_formatted(n)\n",
    "    \n",
    "# Tips: 1) learn formatted print Syntax: {[index]:[width][.precision][type]}\n",
    "#     2) https://www.geeksforgeeks.org/string-formatting-in-python/"
   ]
  },
  {
   "cell_type": "code",
   "execution_count": null,
   "id": "14f9905f",
   "metadata": {},
   "outputs": [],
   "source": [
    "# Capitalize!\n",
    "\n",
    "def solve(s):\n",
    "    return \" \".join([ss.capitalize() for ss in s.split(\" \")])\n",
    "\n",
    "if __name__ == '__main__':\n",
    "\n",
    "    s = input()\n",
    "\n",
    "    result = solve(s)\n",
    "    print(result)"
   ]
  },
  {
   "cell_type": "markdown",
   "id": "30683517",
   "metadata": {},
   "source": [
    "# Sets"
   ]
  },
  {
   "cell_type": "code",
   "execution_count": null,
   "id": "6079e9b4",
   "metadata": {},
   "outputs": [],
   "source": [
    "# Introduction to Sets\n",
    "def average(array):\n",
    "    return sum(set(array)) / len(set(array))\n",
    "\n",
    "if __name__ == '__main__':\n",
    "    n = int(input())\n",
    "    arr = list(map(int, input().split()))\n",
    "    result = average(arr)\n",
    "    print(result)"
   ]
  },
  {
   "cell_type": "code",
   "execution_count": null,
   "id": "6c866aa8",
   "metadata": {},
   "outputs": [],
   "source": [
    "# No Idea!\n",
    "\n",
    "# Enter your code here. Read input from STDIN. Print output to STDOUT\n",
    "n, m = list(map(int,input().split()))\n",
    "C = list(map(int,input().split()))\n",
    "A = list(map(int,input().split()))\n",
    "B = list(map(int,input().split()))\n",
    "happiness = 0\n",
    "for i in range(n):\n",
    "    if C[i] in A:\n",
    "        happiness += 1\n",
    "    elif C[i] in B:\n",
    "        happiness -= 1\n",
    "print(happiness)"
   ]
  },
  {
   "cell_type": "code",
   "execution_count": null,
   "id": "59e2092c",
   "metadata": {},
   "outputs": [],
   "source": [
    "# Symmetric Difference\n",
    "\n",
    "M = int(input())\n",
    "a = set(map(int,input().split()))\n",
    "N = int(input())\n",
    "b = set(map(int,input().split()))\n",
    "st = set()\n",
    "st.update(a.difference(b), b.difference(a))\n",
    "print(*sorted(list(st)),sep = '\\n')\n",
    "\n",
    "\n",
    "# Tips :\n",
    "# 1) print(*lst, sep = '\\n')\n",
    "    \n",
    "# >> myset = {1, 2} # Directly assigning values to a set\n",
    "# >> myset = set()  # Initializing a set\n",
    "# >> myset = set(['a', 'b']) # Creating a set from a list\n",
    "# >> myset.add('c')\n",
    "# >> myset.update([1, 2, 3, 4]) # update() only works for iterable objects\n",
    "# >> myset.update({1, 6}, [5, 13])\n",
    "# Both the discard() and remove() functions take a single value as an argument and removes that value from the set. \n",
    "# If that value is not present, discard() does nothing, but remove() will raise a KeyError exception.\n",
    "# >> myset.discard(10)\n",
    "# >> myset.remove(13)\n",
    "# >> a.union(b) # Values which exist in a or b\n",
    "# >> a.intersection(b) # Values which exist in a and b\n",
    "# >> a.difference(b) # Values which exist in a but not in b\n",
    "# The union() and intersection() functions are symmetric methods:\n",
    "# >> a.union(b) == b.union(a)\n",
    "# True\n",
    "# >> a.intersection(b) == b.intersection(a)\n",
    "# True\n",
    "# >> a.difference(b) == b.difference(a)\n",
    "# False"
   ]
  },
  {
   "cell_type": "code",
   "execution_count": null,
   "id": "fc0dd0ad",
   "metadata": {},
   "outputs": [],
   "source": [
    "# Set .add()\n",
    "\n",
    "N = int(input())\n",
    "stamp = set()\n",
    "for i in range(N):\n",
    "    stamp.add(input())\n",
    "print(len(stamp))\n",
    "\n",
    "# If we want to add a single element to an existing set, we can use the .add() operation.\n",
    "# It adds the element to the set and returns 'None'."
   ]
  },
  {
   "cell_type": "code",
   "execution_count": null,
   "id": "6503e293",
   "metadata": {},
   "outputs": [],
   "source": [
    "# Set .discard(), .remove() & .pop()\n",
    "\n",
    "n = int(input())\n",
    "s = set(map(int, input().split()))\n",
    "\n",
    "n = int(input())\n",
    "for i in range(n):\n",
    "    command = input().rstrip().split()\n",
    "    if (str(command[0]) == 'pop'):\n",
    "        s.pop();\n",
    "    elif (str(command[0]) == 'remove' and int(command[1]) in s):\n",
    "        s.remove(int(command[1]))\n",
    "    elif (str(command[0]) == 'discard'):\n",
    "        s.discard(int(command[1]))\n",
    "        \n",
    "print(sum(list(s)))\n",
    "\n",
    "\n",
    "# Tips:\n",
    "# .remove(x)\n",
    "# This operation removes element x from the set.\n",
    "# If element  does not exist, it raises a KeyError.\n",
    "# The .remove(x) operation returns None.\n",
    "\n",
    "# .discard(x)\n",
    "# This operation also removes element x from the set.\n",
    "# If element  does not exist, it does not raise a KeyError.\n",
    "# The .discard(x) operation returns None.\n",
    "\n",
    "# .pop()\n",
    "# This operation removes and return an arbitrary element from the set.\n",
    "# If there are no elements to remove, it raises a KeyError."
   ]
  },
  {
   "cell_type": "code",
   "execution_count": null,
   "id": "980b9ca9",
   "metadata": {},
   "outputs": [],
   "source": [
    "# Set .union() Operation\n",
    "\n",
    "n = int(input())\n",
    "A = set(map(int,input().split()))\n",
    "\n",
    "m = int(input())\n",
    "B = set(map(int,input().split()))\n",
    "\n",
    "print(len(A.union(B)))\n",
    "\n",
    "\n",
    "# Tips:\n",
    "# .union()\n",
    "\n",
    "# The .union() operator returns the union of a set and the set of elements in an iterable."
   ]
  },
  {
   "cell_type": "code",
   "execution_count": null,
   "id": "7cac8d5d",
   "metadata": {},
   "outputs": [],
   "source": [
    "# Set .intersection() Operation\n",
    "\n",
    "n = int(input())\n",
    "A = set(map(int,input().split()))\n",
    "\n",
    "m = int(input())\n",
    "B = set(map(int,input().split()))\n",
    "\n",
    "print(len(A.intersection(B)))"
   ]
  },
  {
   "cell_type": "code",
   "execution_count": null,
   "id": "564e787e",
   "metadata": {},
   "outputs": [],
   "source": [
    "# Set .difference() Operation\n",
    "\n",
    "n = int(input())\n",
    "A = set(map(int,input().split()))\n",
    "\n",
    "m = int(input())\n",
    "B = set(map(int,input().split()))\n",
    "\n",
    "print(len(A.difference(B)))\n"
   ]
  },
  {
   "cell_type": "code",
   "execution_count": null,
   "id": "512ec7a2",
   "metadata": {},
   "outputs": [],
   "source": [
    "# Set .symmetric_difference() Operation\n",
    "\n",
    "n = int(input())\n",
    "A = set(map(int,input().split()))\n",
    "\n",
    "m = int(input())\n",
    "B = set(map(int,input().split()))\n",
    "\n",
    "print(len(A.symmetric_difference(B)))\n",
    "\n",
    "# Tip: .symmetric_difference()\n",
    "# The .symmetric_difference() operator returns a set with all \n",
    "# the elements that are in the set and the iterable but not both."
   ]
  },
  {
   "cell_type": "code",
   "execution_count": null,
   "id": "283bfde0",
   "metadata": {},
   "outputs": [],
   "source": [
    "# Set Mutations\n",
    "\n",
    "if __name__ == '__main__':\n",
    "    n = int(input())\n",
    "    arr1 = set(map(int, input().split()))\n",
    "    m = int(input())\n",
    "    for i in range(m):\n",
    "        command = input().strip().split(\" \")\n",
    "        lst = set(map(int,input().split()))\n",
    "        \n",
    "        if (str(command[0]) == 'intersection_update'):\n",
    "            arr1.intersection_update(lst)\n",
    "        elif (str(command[0]) == 'update'):\n",
    "            arr1.update(lst)\n",
    "        elif (str(command[0]) == 'difference_update'):\n",
    "            arr1.difference_update(lst)\n",
    "        elif (str(command[0]) == 'symmetric_difference_update'):\n",
    "            arr1.symmetric_difference_update(lst)          \n",
    "            \n",
    "    print(sum(arr1))\n",
    "    \n",
    "# Tips:\n",
    "# We can use the following operations to create mutations to a set:\n",
    "\n",
    "# .update() or |=\n",
    "# Update the set by adding elements from an iterable/another set.\n",
    "\n",
    "# .intersection_update() or &=\n",
    "# Update the set by keeping only the elements found in it and an iterable/another set."
   ]
  },
  {
   "cell_type": "code",
   "execution_count": null,
   "id": "69a5dd64",
   "metadata": {},
   "outputs": [],
   "source": [
    "# The Captain's Room\n",
    "import collections\n",
    "K = int(input())\n",
    "lst = list(map(int,input().split()))\n",
    "hashmap = collections.Counter(lst)\n",
    "for i in hashmap:\n",
    "    if (hashmap[i] == 1):\n",
    "        print(i)\n"
   ]
  },
  {
   "cell_type": "code",
   "execution_count": null,
   "id": "24243ea4",
   "metadata": {},
   "outputs": [],
   "source": [
    "# Check Subset\n",
    "\n",
    "n = int(input())\n",
    "for _ in range(n):\n",
    "    m = int(input())\n",
    "    A = set(map(int,input().split()))\n",
    "    k = int(input())\n",
    "    B = set(map(int,input().split()))\n",
    "    print(A.issubset(B))\n",
    "-----------------------------------------\n",
    "n = int(input())\n",
    "for _ in range(n):\n",
    "    m = int(input())\n",
    "    A = set(map(int,input().split()))\n",
    "    k = int(input())\n",
    "    B = set(map(int,input().split()))\n",
    "    print(all([True if i in B else False for i in A]))\n",
    "    \n",
    "# Tips: 1) learn A.issubset(B)"
   ]
  },
  {
   "cell_type": "code",
   "execution_count": null,
   "id": "0a4e5c7a",
   "metadata": {},
   "outputs": [],
   "source": [
    "# Check Strict Superset\n",
    "\n",
    "A = set(map(int,input().split()))\n",
    "n = int(input())\n",
    "lst = []\n",
    "for _ in range(n):\n",
    "    B = set(map(int,input().split()))\n",
    "    lst.append(A.issuperset(B))\n",
    "print(all(lst))\n",
    "\n",
    "# Tips: 1) learn A.issuperset(B)"
   ]
  },
  {
   "cell_type": "markdown",
   "id": "aa3d709f",
   "metadata": {},
   "source": [
    "# Math"
   ]
  },
  {
   "cell_type": "code",
   "execution_count": null,
   "id": "af266fe8",
   "metadata": {},
   "outputs": [],
   "source": [
    "import cmath\n",
    "N = complex(input().strip())\n",
    "r = abs(N)\n",
    "theta = cmath.phase(N)\n",
    "print(r)\n",
    "print(theta)\n",
    "\n",
    "# Tips: 1) learn the function complex()\n",
    "#     2) cmath.phase()"
   ]
  },
  {
   "cell_type": "code",
   "execution_count": null,
   "id": "ab92eb9b",
   "metadata": {},
   "outputs": [],
   "source": [
    "import math\n",
    "AB,BC=int(input()),int(input())\n",
    "hype=math.hypot(AB,BC)                      #to calculate hypotenuse\n",
    "res=round(math.degrees(math.acos(BC/hype))) #to calculate required angle \n",
    "degree=chr(176)                                #for DEGREE symbol\n",
    "print(res,degree, sep='')\n",
    "\n",
    "# Tips: 1) math.acos() 2) math.degrees() 3) math.hypot"
   ]
  },
  {
   "cell_type": "code",
   "execution_count": null,
   "id": "03dc3571",
   "metadata": {},
   "outputs": [],
   "source": [
    "# Triangle Quest 2\n",
    "for i in range(1,int(input())+1): \n",
    "    print((10**i//9)**2)"
   ]
  },
  {
   "cell_type": "code",
   "execution_count": null,
   "id": "703f421a",
   "metadata": {},
   "outputs": [],
   "source": [
    "# Mod Divmod\n",
    "\n",
    "a, b = int(input().strip()), int(input().strip())\n",
    "print(a//b)\n",
    "print(a%b)\n",
    "print(divmod(a,b))"
   ]
  },
  {
   "cell_type": "code",
   "execution_count": null,
   "id": "91243559",
   "metadata": {},
   "outputs": [],
   "source": [
    "# Power - Mod Power\n",
    "\n",
    "a,b ,m = int(input()), int(input()), int(input())\n",
    "print(pow(a,b))\n",
    "print(pow(a,b,m))\n",
    "\n",
    "# Tips: pow(a,b,m) is a^b % m"
   ]
  },
  {
   "cell_type": "code",
   "execution_count": null,
   "id": "10b1c62f",
   "metadata": {},
   "outputs": [],
   "source": [
    "a, b, c, d = int(input()), int(input()), int(input()), int(input())\n",
    "print(pow(a,b) + c**d)"
   ]
  },
  {
   "cell_type": "code",
   "execution_count": null,
   "id": "7f4d95fb",
   "metadata": {},
   "outputs": [],
   "source": [
    "# Triangle Quest\n",
    "\n",
    "for i in range(1,int(input())): #More than 2 lines will result in 0 score. Do not leave a blank line also\n",
    "    a = [10**j for j in range(i)]\n",
    "    print(sum(a)*i)"
   ]
  },
  {
   "cell_type": "markdown",
   "id": "2ca047e5",
   "metadata": {},
   "source": [
    "# itertools"
   ]
  },
  {
   "cell_type": "code",
   "execution_count": null,
   "id": "7d3af7e0",
   "metadata": {},
   "outputs": [],
   "source": [
    "# itertools.product()\n",
    "\n",
    "from itertools import product\n",
    "A = list(map(int,input().strip().split()))\n",
    "B = list(map(int,input().strip().split()))\n",
    "print(*list(product(A,B)),sep=' ')\n",
    "\n",
    "# learn itertools.product: This tool computes the cartesian product of input iterables.\n",
    "# For example, product(A, B) returns the same as ((x,y) for x in A for y in B)."
   ]
  },
  {
   "cell_type": "code",
   "execution_count": null,
   "id": "6ee5e7e9",
   "metadata": {},
   "outputs": [],
   "source": [
    "# itertools.permutations()\n",
    "\n",
    "from itertools import permutations\n",
    "st, N = input().split()\n",
    "lst = list(permutations(sorted(st),int(N)))\n",
    "print(*[''.join(lst[i]) for i in range(len(lst))],sep ='\\n')\n",
    "\n",
    "# This tool returns successive r length permutations of elements in an iterable."
   ]
  },
  {
   "cell_type": "code",
   "execution_count": 40,
   "id": "58748b4c",
   "metadata": {},
   "outputs": [
    {
     "name": "stdout",
     "output_type": "stream",
     "text": [
      "HACK 2\n",
      "A\n",
      "C\n",
      "H\n",
      "K\n",
      "AC\n",
      "AH\n",
      "AK\n",
      "CH\n",
      "CK\n",
      "HK\n"
     ]
    }
   ],
   "source": [
    "from itertools import combinations\n",
    "st, N = input().split()\n",
    "for i in range(int(N)):\n",
    "    lst = list(combinations(sorted(st),i+1))\n",
    "    print(*[''.join(lst[i]) for i in range(len(lst))],sep ='\\n')"
   ]
  },
  {
   "cell_type": "code",
   "execution_count": 3,
   "id": "42aade03",
   "metadata": {},
   "outputs": [
    {
     "name": "stdout",
     "output_type": "stream",
     "text": [
      "HACK 2\n",
      "AA\n",
      "AC\n",
      "AH\n",
      "AK\n",
      "CC\n",
      "CH\n",
      "CK\n",
      "HH\n",
      "HK\n",
      "KK\n"
     ]
    }
   ],
   "source": [
    "from itertools import combinations_with_replacement\n",
    "st, N = input().split()\n",
    "lst = list(combinations_with_replacement(sorted(st),int(N)))\n",
    "print(*[''.join(lst[i]) for i in range(len(lst))],sep ='\\n')"
   ]
  },
  {
   "cell_type": "code",
   "execution_count": 21,
   "id": "0d7d00e1",
   "metadata": {},
   "outputs": [
    {
     "name": "stdout",
     "output_type": "stream",
     "text": [
      "1222233344\n",
      "(1, 1) (2, 4) (3, 3) (4, 2)\n"
     ]
    }
   ],
   "source": [
    "from itertools import groupby\n",
    "print(*[(int(a), len(list(b))) for a,b in groupby(str(input()))])"
   ]
  },
  {
   "cell_type": "code",
   "execution_count": null,
   "id": "a68cf040",
   "metadata": {},
   "outputs": [],
   "source": [
    "# Skipped itertools for now. Review this section later."
   ]
  },
  {
   "cell_type": "markdown",
   "id": "8af5a42e",
   "metadata": {},
   "source": [
    "# Collections"
   ]
  },
  {
   "cell_type": "code",
   "execution_count": 26,
   "id": "48a6f858",
   "metadata": {},
   "outputs": [
    {
     "name": "stdout",
     "output_type": "stream",
     "text": [
      "10\n",
      "2 3 4 5 6 8 7 6 5 18\n",
      "dict_keys([2, 3, 4, 5, 6, 8, 7, 18])\n",
      "6\n",
      "6 55\n",
      "6 45\n",
      "6 55\n",
      "4 40\n",
      "18 60\n",
      "10 50\n",
      "50\n"
     ]
    }
   ],
   "source": [
    "# collections.Counter()\n",
    "\n",
    "from collections import Counter\n",
    "N = int(input())\n",
    "shoe_list = list(map(int,input().split()))\n",
    "dic = Counter(shoe_list)\n",
    "M = int(input())\n",
    "salary = 0\n",
    "for i in range(M):\n",
    "    shoe, price = input().split()\n",
    "    if (int(shoe) in Counter(shoe_list).keys()):\n",
    "        if (dic[int(shoe)] > 0):\n",
    "            dic[int(shoe)] -= 1\n",
    "            salary += int(price)\n",
    "print(salary)\n",
    "\n",
    "# Tips: 1) dic = Counter(lst)\n",
    "# 2) dic.keys() 3) dic.values()"
   ]
  },
  {
   "cell_type": "code",
   "execution_count": 71,
   "id": "3ff5b00b",
   "metadata": {},
   "outputs": [
    {
     "name": "stdout",
     "output_type": "stream",
     "text": [
      "5 2\n",
      "a\n",
      "a\n",
      "a\n",
      "b\n",
      "b\n",
      "a\n",
      "b\n",
      "1 2 3\n",
      "4 5\n"
     ]
    }
   ],
   "source": [
    "# DefaultDict Tutorial\n",
    "\n",
    "from collections import defaultdict\n",
    "d = defaultdict(list)\n",
    "\n",
    "n , m = map(int, input().split())\n",
    "\n",
    "for i in range(n):\n",
    "    d[input()].append(i+1)\n",
    "    \n",
    "lst = [input() for i in range(m)]\n",
    "\n",
    "for i in lst:\n",
    "    if (i in d.keys()):\n",
    "        print(*d[i])\n",
    "    else:\n",
    "        print(-1)\n",
    "# Tips: 1) learn defaultdict(list) or defaultdict(tuple)"
   ]
  },
  {
   "cell_type": "code",
   "execution_count": null,
   "id": "73c91534",
   "metadata": {},
   "outputs": [],
   "source": [
    "# Collections.namedtuple()\n",
    "\n",
    "n = int(input().strip())\n",
    "grades = namedtuple('grades', input())\n",
    "sum = 0\n",
    "for i in range(n):\n",
    "    lst = input().split()\n",
    "    stu1 = grades(lst[0],lst[1],lst[2],lst[3])\n",
    "    sum += int(stu1.MARKS)\n",
    "print(sum/n)\n",
    "\n",
    "# Tips: Learn namedtuple\n",
    "# >>> from collections import namedtuple\n",
    "# >>> Point = namedtuple('Point','x,y')\n",
    "# >>> pt1 = Point(1,2)\n",
    "# >>> pt2 = Point(3,4)\n",
    "# >>> dot_product = ( pt1.x * pt2.x ) +( pt1.y * pt2.y )\n",
    "# >>> print dot_product\n",
    "\n",
    "# >>> from collections import namedtuple\n",
    "# >>> Car = namedtuple('Car','Price Mileage Colour Class')\n",
    "# >>> xyz = Car(Price = 100000, Mileage = 30, Colour = 'Cyan', Class = 'Y')\n",
    "# >>> print xyz\n",
    "# Car(Price=100000, Mileage=30, Colour='Cyan', Class='Y')\n",
    "# >>> print xyz.Class"
   ]
  },
  {
   "cell_type": "code",
   "execution_count": null,
   "id": "9e174aad",
   "metadata": {},
   "outputs": [],
   "source": [
    "# Collections.OrderedDict()\n",
    "\n",
    "from collections import OrderedDict\n",
    "dic = OrderedDict()\n",
    "for i in range(int(input().strip())):\n",
    "    lst = input().split()\n",
    "    name = ' '.join(lst[0:-1])\n",
    "    if (name in dic.keys()):\n",
    "        dic[name] += int(lst[-1])\n",
    "    else:\n",
    "        dic[name] = int(lst[-1])\n",
    "\n",
    "for food, price in dic.items():\n",
    "    print(food, price)\n",
    "    \n",
    "# Tips: An OrderedDict is a dictionary that remembers the order of the keys that were inserted first. \n",
    "# If a new entry overwrites an existing entry, the original insertion position is left unchanged."
   ]
  },
  {
   "cell_type": "code",
   "execution_count": null,
   "id": "9bdff259",
   "metadata": {},
   "outputs": [],
   "source": [
    "# Word Order\n",
    "\n",
    "from collections import OrderedDict\n",
    "dic = OrderedDict()\n",
    "n = int(input())\n",
    "for _ in range(n):\n",
    "    word = input()\n",
    "    if word in dic:\n",
    "        dic[word] += 1\n",
    "    else:\n",
    "        dic[word] = 1\n",
    "print(len(dic.keys()))\n",
    "print(*dic.values())\n",
    "\n",
    "# Tips: 1) paranthesis for OrderedDict() 2) *dic.values()"
   ]
  },
  {
   "cell_type": "code",
   "execution_count": 9,
   "id": "fac5fd10",
   "metadata": {},
   "outputs": [
    {
     "name": "stdout",
     "output_type": "stream",
     "text": [
      "6\n",
      "append 1\n",
      "append 2\n",
      "append 3\n",
      "appendleft 4\n",
      "pop\n",
      "popleft\n",
      "deque([4, 1, 2, 3])\n"
     ]
    }
   ],
   "source": [
    "# Collections.deque()\n",
    "\n",
    "from collections import deque\n",
    "d = deque()\n",
    "for i in range(int(input())):\n",
    "    command= input().split()\n",
    "    if (str(command[0]) == 'append'):\n",
    "        d.append(int(command[1]))\n",
    "    elif (str(command[0]) == 'appendleft'):\n",
    "        d.appendleft(int(command[1]))\n",
    "    elif (str(command[0]) == 'pop'):\n",
    "        d.pop()\n",
    "    elif (str(command[0]) == 'popleft'):\n",
    "        d.popleft()\n",
    "print(*d)\n",
    "\n",
    "# Tips: 1) A deque is a double-ended queue. It can be used to add or remove elements from both ends.\n",
    "# >>> from collections import deque\n",
    "# >>> d = deque()\n",
    "# >>> d.append(1)\n",
    "# >>> print d\n",
    "# deque([1])\n",
    "# >>> d.appendleft(2)\n",
    "# >>> print d\n",
    "# deque([2, 1])\n",
    "# >>> d.clear()\n",
    "# >>> print d\n",
    "# deque([])\n",
    "# >>> d.extend('1')\n",
    "# >>> print d\n",
    "# deque(['1'])\n",
    "# >>> d.extendleft('234')\n",
    "# >>> print d\n",
    "# deque(['4', '3', '2', '1'])\n",
    "# >>> d.count('1')\n",
    "# 1\n",
    "# >>> d.pop()\n",
    "# '1'\n",
    "# >>> print d\n",
    "# deque(['4', '3', '2'])\n",
    "# >>> d.popleft()\n",
    "# '4'\n",
    "# >>> print d\n",
    "# deque(['3', '2'])\n",
    "# >>> d.extend('7896')\n",
    "# >>> print d\n",
    "# deque(['3', '2', '7', '8', '9', '6'])\n",
    "# >>> d.remove('2')\n",
    "# >>> print d\n",
    "# deque(['3', '7', '8', '9', '6'])\n",
    "# >>> d.reverse()\n",
    "# >>> print d\n",
    "# deque(['6', '9', '8', '7', '3'])\n",
    "# >>> d.rotate(3)\n",
    "# >>> print d\n",
    "# deque(['8', '7', '3', '6', '9'])"
   ]
  },
  {
   "cell_type": "code",
   "execution_count": null,
   "id": "16de8f5c",
   "metadata": {},
   "outputs": [],
   "source": [
    "# Company Logo\n",
    "Dict={}\n",
    "for x in sorted(s):\n",
    "    Dict[x]=Dict.get(x,0)+1   \n",
    "#Sorting Dict by value & storing sorted keys in Dict_keys.\n",
    "Dict_keys=sorted(Dict, key=Dict.get, reverse=True)  \n",
    "\n",
    "for key in Dict_keys[:3]:\n",
    "    print(key,Dict[key])\n",
    "    \n",
    "-------------------------------\n",
    "from collections import Counter\n",
    "if __name__ == '__main__':\n",
    "    s = input()\n",
    "    dic = Counter(sorted(s))\n",
    "    dic_sort=sorted(dic, key=dic.get, reverse=True)  \n",
    "    for i in range(3):\n",
    "        print(dic_sort[i], dic[dic_sort[i]])\n",
    "# Tips: 1) sorted works on a string\n",
    "# 2) learn dic.get(x,0). The second argumenet is the ddefalut value to return if x not in dic\n",
    "# 3) learn dic_sort=sorted(dic, key=dic.get, reverse=True) "
   ]
  },
  {
   "cell_type": "code",
   "execution_count": null,
   "id": "5d9f0be9",
   "metadata": {},
   "outputs": [],
   "source": [
    "# Piling Up!\n",
    "\n",
    "from collections import deque\n",
    "N = int(input())\n",
    "for _ in range(N):\n",
    "    m = int(input())\n",
    "    blocks = deque(list(map(int,input().split())))\n",
    "    d = deque(sorted(blocks))\n",
    "    d.reverse()\n",
    "    \n",
    "    for _ in range(m):\n",
    "        if blocks[0] >= blocks[-1]:\n",
    "            tmp = blocks.popleft()\n",
    "        else:\n",
    "            tmp = blocks.pop()\n",
    "        if tmp != d.popleft():\n",
    "            print('No')\n",
    "            break\n",
    "    if len(blocks) == 0:\n",
    "        print('Yes')\n",
    "# Tips: deque.popleft() removes the value and returns it."
   ]
  },
  {
   "cell_type": "markdown",
   "id": "64ec65ab",
   "metadata": {},
   "source": [
    "# Date and time"
   ]
  },
  {
   "cell_type": "code",
   "execution_count": 13,
   "id": "1f120ded",
   "metadata": {},
   "outputs": [
    {
     "name": "stdout",
     "output_type": "stream",
     "text": [
      "08 05 2015\n",
      "2\n",
      "WEDNESDAY\n"
     ]
    }
   ],
   "source": [
    "import calendar\n",
    "m,d,y = map(int,input().split())\n",
    "print(calendar.weekday(y, m, d))\n",
    "print(list(calendar.day_name)[calendar.weekday(y, m, d)].upper())\n",
    "\n",
    "# Tips: The weekday() method is used to returns the day of the week \n",
    "# (0 is Monday) for year (1970–...), month (1–12), day (1–31)."
   ]
  },
  {
   "cell_type": "code",
   "execution_count": null,
   "id": "c58723cb",
   "metadata": {},
   "outputs": [],
   "source": [
    "from datetime import datetime as dt\n",
    "\n",
    "\n",
    "fmt = '%a %d %b %Y %H:%M:%S %z'\n",
    "for i in range(int(input())):\n",
    "    print(int(abs((dt.strptime(input(), fmt) - \n",
    "                   dt.strptime(input(), fmt)).total_seconds())))\n",
    "\n",
    "# Tips: 1) https://www.programiz.com/python-programming/datetime/strptime\n",
    "# 2) datetime.strptime: The strptime() class method takes two arguments:\n",
    "\n",
    "# string (that be converted to datetime)\n",
    "# format code\n",
    "# Based on the string and format code used, the method returns its equivalent datetime object.\n",
    "\n",
    "# 3) .total_secods()"
   ]
  },
  {
   "cell_type": "markdown",
   "id": "b2fd3667",
   "metadata": {},
   "source": [
    "# Error and Excpetions"
   ]
  },
  {
   "cell_type": "code",
   "execution_count": null,
   "id": "50ba0c1b",
   "metadata": {},
   "outputs": [],
   "source": [
    "# Exceptions\n",
    "\n",
    "N = int(input())\n",
    "for _ in range(N):\n",
    "    try:\n",
    "        a, b = map(int,input().split())\n",
    "        print(a // b)\n",
    "    except ZeroDivisionError as e:\n",
    "        print(\"Error Code:\",e)\n",
    "    except ValueError as e:\n",
    "        print(\"Error Code:\",e)\n",
    "        \n",
    "# Tips: 1) learn try except statements\n",
    "#     2) there could be several excepet lines\n",
    "#     3) "
   ]
  },
  {
   "cell_type": "code",
   "execution_count": 16,
   "id": "31e603d4",
   "metadata": {},
   "outputs": [
    {
     "name": "stdout",
     "output_type": "stream",
     "text": [
      "1\n",
      ".*\\+\n",
      "True\n"
     ]
    }
   ],
   "source": [
    "# Incorrect Regex\n",
    "\n",
    "import re\n",
    "for _ in range(int(input())):\n",
    "    try:\n",
    "        re.compile(input())\n",
    "        print(True)\n",
    "    except:\n",
    "        print(False)\n",
    "# I i did not understand regex stuff. Will study them later."
   ]
  },
  {
   "cell_type": "markdown",
   "id": "20055d2d",
   "metadata": {},
   "source": [
    "# Built in"
   ]
  },
  {
   "cell_type": "code",
   "execution_count": 7,
   "id": "bf22c599",
   "metadata": {},
   "outputs": [
    {
     "name": "stdout",
     "output_type": "stream",
     "text": [
      "[1, 2, 3, 4, 5, 6]\n"
     ]
    }
   ],
   "source": [
    "# Zipped!\n",
    "n, x = map(int, input().split()) \n",
    "\n",
    "sheet = []\n",
    "for _ in range(x):\n",
    "    sheet.append( map(float, input().split()) ) \n",
    "\n",
    "for i in zip(*sheet): \n",
    "    print( sum(i)/len(i) )\n",
    "# Tip: 1) learn the zip function"
   ]
  },
  {
   "cell_type": "code",
   "execution_count": 27,
   "id": "52f92328",
   "metadata": {},
   "outputs": [
    {
     "name": "stdout",
     "output_type": "stream",
     "text": [
      "1 5\n",
      "x^2\n",
      "False\n"
     ]
    }
   ],
   "source": [
    "# Input()\n",
    "\n",
    "x,k = list(map(int,input().split()))\n",
    "print(eval(input()) == k)\n",
    "\n",
    "# Tips: 1) learn eval(input)"
   ]
  },
  {
   "cell_type": "code",
   "execution_count": null,
   "id": "4812770e",
   "metadata": {},
   "outputs": [],
   "source": [
    "x, k = list(map(int,input().split()))\n",
    "print(eval(input()) == k)"
   ]
  },
  {
   "cell_type": "code",
   "execution_count": 9,
   "id": "abdb8f09",
   "metadata": {},
   "outputs": [
    {
     "name": "stdout",
     "output_type": "stream",
     "text": [
      "print(2 + 3)\n",
      "5\n"
     ]
    }
   ],
   "source": [
    "inp = input()\n",
    "eval(inp)"
   ]
  },
  {
   "cell_type": "code",
   "execution_count": null,
   "id": "6cf17ba3",
   "metadata": {},
   "outputs": [],
   "source": [
    "#!/bin/python3\n",
    "\n",
    "import math\n",
    "import os\n",
    "import random\n",
    "import re\n",
    "import sys\n",
    "\n",
    "\n",
    "\n",
    "if __name__ == '__main__':\n",
    "    nm = input().split()\n",
    "\n",
    "    n = int(nm[0])\n",
    "\n",
    "    m = int(nm[1])\n",
    "\n",
    "    arr = []\n",
    "\n",
    "    for _ in range(n):\n",
    "        arr.append(list(map(int, input().rstrip().split())))\n",
    "\n",
    "    k = int(input())\n",
    "\n",
    "    arr.sort(key = lambda i: i[k])\n",
    "    for j in range(n):\n",
    "        print(*arr[j])"
   ]
  },
  {
   "cell_type": "code",
   "execution_count": 12,
   "id": "85d47c89",
   "metadata": {},
   "outputs": [
    {
     "name": "stdout",
     "output_type": "stream",
     "text": [
      "12 9 61 5 14 \n"
     ]
    }
   ],
   "source": [
    "# Enter your code here. Read input from STDIN. Print output to STDOUT\n",
    "n = int(input())\n",
    "lst = input().split()\n",
    "\n",
    "if (all(int(i) > 0 for i in lst)):\n",
    "    if (any(i == i[::-1] for i in lst)):\n",
    "        print('True')\n",
    "    else:\n",
    "        print('False')\n",
    "else:\n",
    "    print('False')\n"
   ]
  },
  {
   "cell_type": "code",
   "execution_count": 10,
   "id": "eb92111b",
   "metadata": {},
   "outputs": [
    {
     "name": "stdout",
     "output_type": "stream",
     "text": [
      "Sorting1234\n",
      "ortingS1324\n"
     ]
    }
   ],
   "source": [
    "print(*(sorted(input(), key=lambda x: (x.isdigit(), x.isdigit() and int(x)%2==0, x.isupper(), x.islower(), x))), sep='')"
   ]
  },
  {
   "cell_type": "markdown",
   "id": "b3821f95",
   "metadata": {},
   "source": [
    "# Python Functionals"
   ]
  },
  {
   "cell_type": "code",
   "execution_count": 37,
   "id": "67cd90a3",
   "metadata": {},
   "outputs": [
    {
     "name": "stdout",
     "output_type": "stream",
     "text": [
      "0\n",
      "[]\n"
     ]
    }
   ],
   "source": [
    "cube = lambda x: x**3 # complete the lambda function \n",
    "\n",
    "def fibonacci(n):\n",
    "    fib = [0,1]\n",
    "    for i in range(2,n):\n",
    "        fib.append(int(fib[i-1] +fib[i-2]))\n",
    "    return fib[0:n]\n",
    "\n",
    "if __name__ == '__main__':\n",
    "    n = int(input())\n",
    "    print(list(map(cube, fibonacci(n))))"
   ]
  },
  {
   "cell_type": "code",
   "execution_count": null,
   "id": "7787ee1e",
   "metadata": {},
   "outputs": [],
   "source": [
    "#skipped will comeback"
   ]
  },
  {
   "cell_type": "markdown",
   "id": "60d38ff7",
   "metadata": {},
   "source": [
    "# Numpy"
   ]
  },
  {
   "cell_type": "code",
   "execution_count": 49,
   "id": "292eefd8",
   "metadata": {},
   "outputs": [
    {
     "name": "stdout",
     "output_type": "stream",
     "text": [
      "1 2 3 4 -8 -10\n",
      "[-10.  -8.   1.   2.   3.   4.]\n"
     ]
    }
   ],
   "source": [
    "# Arrays\n",
    "import numpy\n",
    "\n",
    "def arrays(arr):\n",
    "    # complete this function\n",
    "    # use numpy.array\n",
    "    arr.reverse()\n",
    "    return numpy.array(arr,float)\n",
    "\n",
    "arr = input().strip().split(' ')\n",
    "result = arrays(arr)\n",
    "print(result)\n",
    "\n",
    "# Tips: 1) The reverse() method doesn't return any value. It updates the existing list.\n",
    "# 2) The second argument (float) can be used to set the type of array elements."
   ]
  },
  {
   "cell_type": "code",
   "execution_count": null,
   "id": "91553601",
   "metadata": {},
   "outputs": [],
   "source": [
    "# Shape and Reshape\n",
    "import numpy as np\n",
    "print(np.array(list(map(int,input().split()))).reshape((3,3)))\n",
    "\n",
    "# Tips: np.reshape(arr,size)\n",
    "# np.reshape(arr,(3,3))"
   ]
  },
  {
   "cell_type": "code",
   "execution_count": 4,
   "id": "ddd7d7b7",
   "metadata": {},
   "outputs": [
    {
     "name": "stdout",
     "output_type": "stream",
     "text": [
      "2 2\n",
      "1 2\n",
      "3 4\n",
      "<built-in method transpose of numpy.ndarray object at 0x7fe3395ea330>\n"
     ]
    }
   ],
   "source": [
    "# Transpose and Flatten\n",
    "import numpy as np\n",
    "n, m = list(map(int,input().split()))\n",
    "arr = np.array([list(map(int,input().split())) for _ in range(n)])\n",
    "print(np.transpose(arr))\n",
    "print(arr.flatten())\n",
    "\n",
    "# Tips: 1) np.transpose\n",
    "# 2) arr.flatten()"
   ]
  },
  {
   "cell_type": "code",
   "execution_count": 3,
   "id": "789616e5",
   "metadata": {},
   "outputs": [
    {
     "data": {
      "text/plain": [
       "array([[1, 2],\n",
       "       [3, 4]])"
      ]
     },
     "execution_count": 3,
     "metadata": {},
     "output_type": "execute_result"
    }
   ],
   "source": [
    "# Concatenate\n",
    "import numpy as np\n",
    "m, n, p = list(map(int,input().split()))\n",
    "arr1 = np.array([list(map(int,input().split())) for _ in range(m)])\n",
    "arr2 = np.array([list(map(int,input().split())) for _ in range(n)])\n",
    "print(np.concatenate((arr1,arr2),axis=0))\n",
    "\n",
    "# Tips: 1) np.concatenate(arr1,arr2,axis = )\n",
    "# If an array has more than one dimension, it is possible to specify the axis\n",
    "# along which multiple arrays are concatenated. By default, it is along the first dimension."
   ]
  },
  {
   "cell_type": "code",
   "execution_count": null,
   "id": "4945f521",
   "metadata": {},
   "outputs": [],
   "source": [
    "# Zeros and Ones\n",
    "import numpy\n",
    "d = tuple(  map(int,(input().split())     ))\n",
    "\n",
    "arr1 = numpy.zeros((d), dtype = numpy.int)\n",
    "print(arr1)\n",
    "    \n",
    "arr2 = numpy.ones((d), dtype = numpy.int)\n",
    "print(arr2)\n",
    "\n",
    "# Tips: np.zeros(tuple of size, dtype = ...)"
   ]
  },
  {
   "cell_type": "code",
   "execution_count": null,
   "id": "fa10ad66",
   "metadata": {},
   "outputs": [],
   "source": [
    "# Eye and Identity\n",
    "import numpy\n",
    "numpy.set_printoptions(legacy='1.13')\n",
    "m, n = list(map(int,input().split()))\n",
    "print(numpy.eye(m,n))\n",
    "\n",
    "# Tips: 1) np.eye(m,n)"
   ]
  },
  {
   "cell_type": "code",
   "execution_count": 9,
   "id": "1e582425",
   "metadata": {},
   "outputs": [
    {
     "name": "stdout",
     "output_type": "stream",
     "text": [
      "1 4\n",
      "1 2 3 4\n",
      "1 2 3 4\n",
      "1 2 3 4\n",
      "1 2 3 4\n"
     ]
    }
   ],
   "source": [
    "# \n",
    "import numpy as np\n",
    "m, n = list(map(int,input().split()))\n",
    "a = np.array([list(map(int,input().split())) for _ in range(n)])"
   ]
  },
  {
   "cell_type": "code",
   "execution_count": null,
   "id": "1ebddc3a",
   "metadata": {},
   "outputs": [],
   "source": [
    "# Array Mathematics\n",
    "\n",
    "import numpy as np\n",
    "m, n = list(map(int,input().split()))\n",
    "a = np.array([list(map(int,input().split())) for _ in range(m)])\n",
    "b = np.array([list(map(int,input().split())) for _ in range(m)])\n",
    "print(a + b)\n",
    "print(a - b)\n",
    "print(a * b)\n",
    "print(a // b)\n",
    "print(a % b)\n",
    "print(a ** b)\n",
    "\n",
    "# Tips: 1) numpy.add(a, b), numpy.subtract(a, b), numpy.multiply(a, b), numpy.divide(a, b), numpy.mod(a, b), numpy.power(a, b)"
   ]
  },
  {
   "cell_type": "code",
   "execution_count": null,
   "id": "fd198e6c",
   "metadata": {},
   "outputs": [],
   "source": [
    "# Floor, Ceil and Rint\n",
    "import numpy as np\n",
    "np.set_printoptions(legacy='1.13')\n",
    "arr = list(map(float,input().split()))\n",
    "print(np.floor(arr),np.ceil(arr),np.rint(arr),sep='\\n')\n",
    "\n",
    "# Tips: 1) numpy.ceil(my_array) , numpy.floor(my_array) \n",
    "# 2) numpy.rint(my_array) The rint tool rounds to the nearest integer of input element-wise.\n"
   ]
  },
  {
   "cell_type": "code",
   "execution_count": null,
   "id": "d13e3e53",
   "metadata": {},
   "outputs": [],
   "source": [
    "# Sum and Prod\n",
    "import numpy as np\n",
    "n, m = list(map(int,input().split()))\n",
    "print(np.prod(np.sum([list(map(int,input().split())) for _ in range(m)],axis = 0)))\n",
    "\n",
    "# Tips: 1) numpy.prod(my_array, axis = 0) \n",
    "# 2) numpy.prod(my_array, axis = None) product of all elements\n",
    "# 3) numpy.sum(my_array, axis = None)\n"
   ]
  },
  {
   "cell_type": "code",
   "execution_count": null,
   "id": "027f4d33",
   "metadata": {},
   "outputs": [],
   "source": [
    "# Min and Max\n",
    "import numpy as np\n",
    "n, m = list(map(int,input().split()))\n",
    "print(np.max(np.min([list(map(int,input().split())) for _ in range(n)],axis = 1)))\n",
    "\n",
    "# Tips: 1) np.min()"
   ]
  },
  {
   "cell_type": "code",
   "execution_count": null,
   "id": "0722e50d",
   "metadata": {},
   "outputs": [],
   "source": [
    "# Mean, Var, and Std\n",
    "import numpy as np\n",
    "#np.set_printoptions(legacy='1.13')\n",
    "n, m = list(map(int,input().split()))\n",
    "arr = [list(map(int,input().split())) for _ in range(m)]\n",
    "print(np.mean(arr,axis = 1),np.var(arr,axis = 0),round(np.std(arr,axis = None),11),sep='\\n')\n",
    "\n",
    "# Tips: 1) np.mean(arr,axis= ---)\n",
    "#     2) np.var(arr,axis= ---)\n",
    "#     3) np.std(arr,axis= ---)"
   ]
  },
  {
   "cell_type": "code",
   "execution_count": null,
   "id": "82f03411",
   "metadata": {},
   "outputs": [],
   "source": [
    "# numpy.cross(A, B)\n",
    "# numpy.dot(A, B)\n",
    "# numpy.outer(A, B)\n",
    "# numpy.inner(A, B)"
   ]
  },
  {
   "cell_type": "code",
   "execution_count": null,
   "id": "bc8ee733",
   "metadata": {},
   "outputs": [],
   "source": [
    "import numpy as np\n",
    "print(np.polyval(list(map(float,input().split())),float(input().rstrip())))\n",
    "\n",
    "# numpy.poly\n",
    "# numpy.roots\n",
    "# numpy.polyint\n",
    "# numpy.polyfit\n"
   ]
  },
  {
   "cell_type": "code",
   "execution_count": 1,
   "id": "3cf0291e",
   "metadata": {},
   "outputs": [
    {
     "name": "stdout",
     "output_type": "stream",
     "text": [
      "2\n",
      "1.1 1.1\n",
      "1.1 1.2\n",
      "0.10999999999999982\n"
     ]
    }
   ],
   "source": [
    "import numpy as np\n",
    "print(np.linalg.det([list(map(float,input().split())) for _ in range(int(input()))]))\n",
    "\n",
    "# numpy.linalg.det([[1 , 2], [2, 1]])  \n",
    "# vals, vecs = numpy.linalg.eig([[1 , 2], [2, 1]])\n",
    "# numpy.linalg.inv([[1 , 2], [2, 1]]) "
   ]
  },
  {
   "cell_type": "code",
   "execution_count": null,
   "id": "1ac103f7",
   "metadata": {},
   "outputs": [],
   "source": []
  }
 ],
 "metadata": {
  "kernelspec": {
   "display_name": "Python 3 (ipykernel)",
   "language": "python",
   "name": "python3"
  },
  "language_info": {
   "codemirror_mode": {
    "name": "ipython",
    "version": 3
   },
   "file_extension": ".py",
   "mimetype": "text/x-python",
   "name": "python",
   "nbconvert_exporter": "python",
   "pygments_lexer": "ipython3",
   "version": "3.9.12"
  }
 },
 "nbformat": 4,
 "nbformat_minor": 5
}
